{
 "cells": [
  {
   "cell_type": "markdown",
   "metadata": {},
   "source": [
    "# Part I: Use Facebook Graph API to Extract Data Using Python\n",
    "Note that this script, and any variant of this script, cannot be used to scrape data from user profiles. (and the Facebook API specifically disallows this use case!)"
   ]
  },
  {
   "cell_type": "markdown",
   "metadata": {},
   "source": [
    "## Getting the Access Token\n",
    "\n",
    "To be able to extract data from Facebook using a python code you need to register as a developer on Facebook and then have an access token.\n",
    "* Go to link [developers.facebook.com](https://developers.facebook.com/), create an account there.\n",
    "* Go to link [Graph API Explorer](https://developers.facebook.com/tools/explorer). You will see “Graph API Explorer” below “My Apps” in the top right corner.\n",
    "* Select “Get Token”. From this drop down, select “Get User Access Token”. Select permissions from the menu that appears and then select “Get Access Token.”\n",
    "\n",
    "### Useful Links\n",
    "* [debug](https://developers.facebook.com/tools/accesstoken/)\n",
    "* [Automated Data Collection Terms](https://www.facebook.com/apps/site_scraping_tos_terms.php?hc_location=ufi)\n",
    "* [Scraper](http://blog.adnansiddiqi.me/tag/scraping/)"
   ]
  },
  {
   "cell_type": "markdown",
   "metadata": {},
   "source": [
    "## Python Code to Access Facebook Public Data"
   ]
  },
  {
   "cell_type": "markdown",
   "metadata": {},
   "source": [
    "### Define a token variable"
   ]
  },
  {
   "cell_type": "code",
   "execution_count": 387,
   "metadata": {},
   "outputs": [],
   "source": [
    "import requests\n",
    "import time\n",
    "import pickle\n",
    "import random\n",
    "import pandas as pd\n",
    "\n",
    "import urllib3\n",
    "import facebook\n",
    "\n",
    "# need to update\n",
    "token = 'EAACEdEose0cBADuewFqHP7p0YhZBIm1y8mOb0yTItNNc2\\\n",
    "fxvZAJZBC4xgaLKSz2JGvjLcHVfTVzc6gE4O7UCQ5v0s8OGnB7lmDeRa\\\n",
    "2rmTfgbjCmRVDp9DemWGYZAfxgmK132hOJBsD6IuV7gFJipiIxCqNMxQN\\\n",
    "ZAZC1biARKuaSG23hHYe5d4HAYrYDU0dVCLFj8F64WWikAZDZD'"
   ]
  },
  {
   "cell_type": "markdown",
   "metadata": {},
   "source": [
    "### Define your request & request function\n",
    "Here, we are interested in DBS posts"
   ]
  },
  {
   "cell_type": "code",
   "execution_count": 388,
   "metadata": {},
   "outputs": [],
   "source": [
    "req = 'dbs?fields=posts{message,comments{message,comment_count}}'\n",
    "\n",
    "def req_facebook(req):\n",
    "    r = requests.get('https://graph.facebook.com/v3.0/'+req,{'access_token': token})\n",
    "    return r"
   ]
  },
  {
   "cell_type": "markdown",
   "metadata": {},
   "source": [
    "We can browse the URL below to see how the raw data looks like"
   ]
  },
  {
   "cell_type": "code",
   "execution_count": 389,
   "metadata": {},
   "outputs": [
    {
     "data": {
      "text/plain": [
       "'https://graph.facebook.com/v3.0/dbs?fields=posts{message,comments{message,comment_count}}&access_token=EAACEdEose0cBADuewFqHP7p0YhZBIm1y8mOb0yTItNNc2fxvZAJZBC4xgaLKSz2JGvjLcHVfTVzc6gE4O7UCQ5v0s8OGnB7lmDeRa2rmTfgbjCmRVDp9DemWGYZAfxgmK132hOJBsD6IuV7gFJipiIxCqNMxQNZAZC1biARKuaSG23hHYe5d4HAYrYDU0dVCLFj8F64WWikAZDZD'"
      ]
     },
     "execution_count": 389,
     "metadata": {},
     "output_type": "execute_result"
    }
   ],
   "source": [
    "url = 'https://graph.facebook.com/v3.0/'+req+'&access_token='+token\n",
    "url"
   ]
  },
  {
   "cell_type": "markdown",
   "metadata": {},
   "source": [
    "### Extract raw data as JSON"
   ]
  },
  {
   "cell_type": "code",
   "execution_count": 396,
   "metadata": {},
   "outputs": [],
   "source": [
    "results = req_facebook(req).json()\n",
    "results = results['posts']"
   ]
  },
  {
   "cell_type": "code",
   "execution_count": 397,
   "metadata": {},
   "outputs": [
    {
     "data": {
      "text/plain": [
       "dict_keys(['data', 'paging'])"
      ]
     },
     "execution_count": 397,
     "metadata": {},
     "output_type": "execute_result"
    }
   ],
   "source": [
    "results.keys()"
   ]
  },
  {
   "cell_type": "code",
   "execution_count": 399,
   "metadata": {},
   "outputs": [
    {
     "data": {
      "text/plain": [
       "{'cursors': {'after': 'Q2c4U1pXNTBYM0YxWlhKNVgzTjBiM0o1WDJsa0R4OHlNVEk0TWpnek1ESTRNRG8zTVRNd05EZA3hORGcxTXpVek5EazBOamsyRHd4aGNHbGZAjM1J2Y25sZAmFXUVBIVEl4TWpneU9ETXdNamd3WHpFd01UVXlPRGczTlRBd016RTFNamd4RHdSMGFXMWxCbFI2WGljQgZDZD',\n",
       "  'before': 'Q2c4U1pXNTBYM0YxWlhKNVgzTjBiM0o1WDJsa0R4OHlNVEk0TWpnek1ESTRNRG8yTXpZAME56WXpNRE00TlRVM056VXdOVEkyRHd4aGNHbGZAjM1J2Y25sZAmFXUVBIVEl4TWpneU9ETXdNamd3WHpFd01UVTJNakF6TlRJMU5UVXdNamd4RHdSMGFXMWxCbHI2ZAmZAVQgZDZD'},\n",
       " 'next': 'https://graph.facebook.com/v3.0/21282830280/posts?access_token=EAACEdEose0cBADuewFqHP7p0YhZBIm1y8mOb0yTItNNc2fxvZAJZBC4xgaLKSz2JGvjLcHVfTVzc6gE4O7UCQ5v0s8OGnB7lmDeRa2rmTfgbjCmRVDp9DemWGYZAfxgmK132hOJBsD6IuV7gFJipiIxCqNMxQNZAZC1biARKuaSG23hHYe5d4HAYrYDU0dVCLFj8F64WWikAZDZD&fields=message%2Ccomments%7Bmessage%2Ccomment_count%7D&limit=25&after=Q2c4U1pXNTBYM0YxWlhKNVgzTjBiM0o1WDJsa0R4OHlNVEk0TWpnek1ESTRNRG8zTVRNd05EZA3hORGcxTXpVek5EazBOamsyRHd4aGNHbGZAjM1J2Y25sZAmFXUVBIVEl4TWpneU9ETXdNamd3WHpFd01UVXlPRGczTlRBd016RTFNamd4RHdSMGFXMWxCbFI2WGljQgZDZD'}"
      ]
     },
     "execution_count": 399,
     "metadata": {},
     "output_type": "execute_result"
    }
   ],
   "source": [
    "#results['data'][0]\n",
    "results['paging']"
   ]
  },
  {
   "cell_type": "markdown",
   "metadata": {},
   "source": [
    "Here, we may be interested in the `'data'` only"
   ]
  },
  {
   "cell_type": "markdown",
   "metadata": {},
   "source": [
    "### Get posts 'data' from the raw"
   ]
  },
  {
   "cell_type": "code",
   "execution_count": 393,
   "metadata": {},
   "outputs": [
    {
     "name": "stdout",
     "output_type": "stream",
     "text": [
      "done\n"
     ]
    },
    {
     "data": {
      "text/plain": [
       "{'comments': {'data': [{'comment_count': 0,\n",
       "    'id': '10156203525380281_10156244349135281',\n",
       "    'message': \"We're happy to help relay this to our DBS India team on your behalf, Kul Singh. Please email your contact details to dbs_care@dbs.com. Thank you! ~Pam\"},\n",
       "   {'comment_count': 3,\n",
       "    'id': '10156203525380281_10156256549015281',\n",
       "    'message': 'Hi DBS DBS, what is the point of having online account opening option, if that does not work! keep showing \"This service is temporarily unavailable. Please try again later. Thank you.\" And the worst is there is no online or offline support. Ashamed of you!! After more than 4 months issue can\\'t resolve!'},\n",
       "   {'comment_count': 2,\n",
       "    'id': '10156203525380281_10156256630525281',\n",
       "    'message': 'Misa good service for online face to face communication'},\n",
       "   {'comment_count': 1,\n",
       "    'id': '10156203525380281_10156242196035281',\n",
       "    'message': 'Not able to login DBS ideal. Error message \"The System could not process request now, please try again later\". Kindly assist.'},\n",
       "   {'comment_count': 1,\n",
       "    'id': '10156203525380281_10156235434845281',\n",
       "    'message': 'Needed help and Nadia Wan went through a lot of trouble to help me.  Fantastic service.  Very impressed by her'}],\n",
       "  'paging': {'cursors': {'after': 'MgZDZD', 'before': 'NgZDZD'}}},\n",
       " 'id': '21282830280_10156203525550281'}"
      ]
     },
     "execution_count": 393,
     "metadata": {},
     "output_type": "execute_result"
    }
   ],
   "source": [
    "data = []\n",
    "i = 0\n",
    "while True:\n",
    "    try:\n",
    "        #time.sleep(random.randint(1,3))\n",
    "        data.extend(results['data'])\n",
    "        r = requests.get(results['paging']['next'])\n",
    "        results = r.json()\n",
    "        i += 1\n",
    "        \n",
    "        # for test only\n",
    "        '''\n",
    "        if i > 5:\n",
    "            break\n",
    "        '''\n",
    "    except:\n",
    "        print('done')\n",
    "        break    \n",
    "data[0]"
   ]
  },
  {
   "cell_type": "markdown",
   "metadata": {},
   "source": [
    "### Save the data into pickle file"
   ]
  },
  {
   "cell_type": "code",
   "execution_count": 126,
   "metadata": {},
   "outputs": [
    {
     "data": {
      "text/plain": [
       "{'comments': {'data': [{'comment_count': 0,\n",
       "    'id': '10156203525380281_10156244349135281',\n",
       "    'message': \"We're happy to help relay this to our DBS India team on your behalf, Kul Singh. Please email your contact details to dbs_care@dbs.com. Thank you! ~Pam\"},\n",
       "   {'comment_count': 3,\n",
       "    'id': '10156203525380281_10156256549015281',\n",
       "    'message': 'Hi DBS DBS, what is the point of having online account opening option, if that does not work! keep showing \"This service is temporarily unavailable. Please try again later. Thank you.\" And the worst is there is no online or offline support. Ashamed of you!! After more than 4 months issue can\\'t resolve!'},\n",
       "   {'comment_count': 1,\n",
       "    'id': '10156203525380281_10156256630525281',\n",
       "    'message': 'Misa good service for online face to face communication'},\n",
       "   {'comment_count': 1,\n",
       "    'id': '10156203525380281_10156242196035281',\n",
       "    'message': 'Not able to login DBS ideal. Error message \"The System could not process request now, please try again later\". Kindly assist.'},\n",
       "   {'comment_count': 1,\n",
       "    'id': '10156203525380281_10156235434845281',\n",
       "    'message': 'Needed help and Nadia Wan went through a lot of trouble to help me.  Fantastic service.  Very impressed by her'}],\n",
       "  'paging': {'cursors': {'after': 'MgZDZD', 'before': 'NgZDZD'}}},\n",
       " 'id': '21282830280_10156203525550281'}"
      ]
     },
     "execution_count": 126,
     "metadata": {},
     "output_type": "execute_result"
    }
   ],
   "source": [
    "outFile = open('DBS.txt', 'wb')\n",
    "pickle.dump(data, outFile)\n",
    "outFile.close()\n",
    "\n",
    "inFile = open('DBS.txt', 'rb')\n",
    "loaded_data = pickle.load(inFile)\n",
    "inFile.close()\n",
    "\n",
    "loaded_data[0]"
   ]
  },
  {
   "cell_type": "code",
   "execution_count": 127,
   "metadata": {},
   "outputs": [
    {
     "data": {
      "text/plain": [
       "325"
      ]
     },
     "execution_count": 127,
     "metadata": {},
     "output_type": "execute_result"
    }
   ],
   "source": [
    "len(loaded_data)"
   ]
  },
  {
   "cell_type": "markdown",
   "metadata": {},
   "source": [
    "### Normalising the data: “Normalize” semi-structured JSON data into a flat table"
   ]
  },
  {
   "cell_type": "code",
   "execution_count": 128,
   "metadata": {},
   "outputs": [
    {
     "data": {
      "text/html": [
       "<div>\n",
       "<style scoped>\n",
       "    .dataframe tbody tr th:only-of-type {\n",
       "        vertical-align: middle;\n",
       "    }\n",
       "\n",
       "    .dataframe tbody tr th {\n",
       "        vertical-align: top;\n",
       "    }\n",
       "\n",
       "    .dataframe thead th {\n",
       "        text-align: right;\n",
       "    }\n",
       "</style>\n",
       "<table border=\"1\" class=\"dataframe\">\n",
       "  <thead>\n",
       "    <tr style=\"text-align: right;\">\n",
       "      <th></th>\n",
       "      <th>comments.data</th>\n",
       "      <th>comments.paging.cursors.after</th>\n",
       "      <th>comments.paging.cursors.before</th>\n",
       "      <th>comments.paging.next</th>\n",
       "      <th>id</th>\n",
       "      <th>message</th>\n",
       "    </tr>\n",
       "  </thead>\n",
       "  <tbody>\n",
       "    <tr>\n",
       "      <th>0</th>\n",
       "      <td>[{'message': 'We're happy to help relay this t...</td>\n",
       "      <td>MgZDZD</td>\n",
       "      <td>NgZDZD</td>\n",
       "      <td>NaN</td>\n",
       "      <td>21282830280_10156203525550281</td>\n",
       "      <td>NaN</td>\n",
       "    </tr>\n",
       "    <tr>\n",
       "      <th>1</th>\n",
       "      <td>[{'message': 'I'm very disappointed with DBS s...</td>\n",
       "      <td>NDAZD</td>\n",
       "      <td>NjcZD</td>\n",
       "      <td>https://graph.facebook.com/v3.0/21282830280_10...</td>\n",
       "      <td>21282830280_10155382287680281</td>\n",
       "      <td>DBS continues to be Asia’s Best Digital Bank! ...</td>\n",
       "    </tr>\n",
       "    <tr>\n",
       "      <th>2</th>\n",
       "      <td>[{'message': 'Hi DBS, I would like to file a c...</td>\n",
       "      <td>MzEZD</td>\n",
       "      <td>NTYZD</td>\n",
       "      <td>https://graph.facebook.com/v3.0/21282830280_10...</td>\n",
       "      <td>21282830280_10154568757645281</td>\n",
       "      <td>The word's out! We are the Best Private Bank f...</td>\n",
       "    </tr>\n",
       "  </tbody>\n",
       "</table>\n",
       "</div>"
      ],
      "text/plain": [
       "                                       comments.data  \\\n",
       "0  [{'message': 'We're happy to help relay this t...   \n",
       "1  [{'message': 'I'm very disappointed with DBS s...   \n",
       "2  [{'message': 'Hi DBS, I would like to file a c...   \n",
       "\n",
       "  comments.paging.cursors.after comments.paging.cursors.before  \\\n",
       "0                        MgZDZD                         NgZDZD   \n",
       "1                         NDAZD                          NjcZD   \n",
       "2                         MzEZD                          NTYZD   \n",
       "\n",
       "                                comments.paging.next  \\\n",
       "0                                                NaN   \n",
       "1  https://graph.facebook.com/v3.0/21282830280_10...   \n",
       "2  https://graph.facebook.com/v3.0/21282830280_10...   \n",
       "\n",
       "                              id  \\\n",
       "0  21282830280_10156203525550281   \n",
       "1  21282830280_10155382287680281   \n",
       "2  21282830280_10154568757645281   \n",
       "\n",
       "                                             message  \n",
       "0                                                NaN  \n",
       "1  DBS continues to be Asia’s Best Digital Bank! ...  \n",
       "2  The word's out! We are the Best Private Bank f...  "
      ]
     },
     "execution_count": 128,
     "metadata": {},
     "output_type": "execute_result"
    }
   ],
   "source": [
    "df_data = pd.io.json.json_normalize(data = loaded_data)\n",
    "df_data.head(3)"
   ]
  },
  {
   "cell_type": "code",
   "execution_count": 129,
   "metadata": {},
   "outputs": [
    {
     "data": {
      "text/plain": [
       "comments.data                     [{'message': 'We're happy to help relay this t...\n",
       "comments.paging.cursors.after                                                MgZDZD\n",
       "comments.paging.cursors.before                                               NgZDZD\n",
       "comments.paging.next                                                            NaN\n",
       "id                                                    21282830280_10156203525550281\n",
       "message                                                                         NaN\n",
       "Name: 0, dtype: object"
      ]
     },
     "execution_count": 129,
     "metadata": {},
     "output_type": "execute_result"
    }
   ],
   "source": [
    "df_data.iloc[0, :]"
   ]
  },
  {
   "cell_type": "code",
   "execution_count": 130,
   "metadata": {},
   "outputs": [
    {
     "data": {
      "text/plain": [
       "[{'comment_count': 0,\n",
       "  'id': '10156203525380281_10156244349135281',\n",
       "  'message': \"We're happy to help relay this to our DBS India team on your behalf, Kul Singh. Please email your contact details to dbs_care@dbs.com. Thank you! ~Pam\"},\n",
       " {'comment_count': 3,\n",
       "  'id': '10156203525380281_10156256549015281',\n",
       "  'message': 'Hi DBS DBS, what is the point of having online account opening option, if that does not work! keep showing \"This service is temporarily unavailable. Please try again later. Thank you.\" And the worst is there is no online or offline support. Ashamed of you!! After more than 4 months issue can\\'t resolve!'},\n",
       " {'comment_count': 1,\n",
       "  'id': '10156203525380281_10156256630525281',\n",
       "  'message': 'Misa good service for online face to face communication'},\n",
       " {'comment_count': 1,\n",
       "  'id': '10156203525380281_10156242196035281',\n",
       "  'message': 'Not able to login DBS ideal. Error message \"The System could not process request now, please try again later\". Kindly assist.'},\n",
       " {'comment_count': 1,\n",
       "  'id': '10156203525380281_10156235434845281',\n",
       "  'message': 'Needed help and Nadia Wan went through a lot of trouble to help me.  Fantastic service.  Very impressed by her'}]"
      ]
     },
     "execution_count": 130,
     "metadata": {},
     "output_type": "execute_result"
    }
   ],
   "source": [
    "df_data.iloc[0, :]['comments.data']"
   ]
  },
  {
   "cell_type": "code",
   "execution_count": 131,
   "metadata": {},
   "outputs": [
    {
     "data": {
      "text/plain": [
       "0                                                  NaN\n",
       "1    DBS continues to be Asia’s Best Digital Bank! ...\n",
       "2    The word's out! We are the Best Private Bank f...\n",
       "3    We are delighted to announce that DBS has reac...\n",
       "4                                                  NaN\n",
       "Name: message, dtype: object"
      ]
     },
     "execution_count": 131,
     "metadata": {},
     "output_type": "execute_result"
    }
   ],
   "source": [
    "df_data['message'].head()"
   ]
  },
  {
   "cell_type": "code",
   "execution_count": 132,
   "metadata": {},
   "outputs": [
    {
     "data": {
      "text/plain": [
       "'DBS continues to be Asia’s Best Digital Bank! This is the second consecutive year we have won the award and is testament to the efforts we have been making to reimagine banking. We are proud to receive the award from Euromoney & be described as “the one bank that convinces you that its use of technology is not just about marketing and simplification, but is translating into profits and new business”. Thank you for being our inspiration and helping us to shape the future of banking, so you can live more, bank less.'"
      ]
     },
     "execution_count": 132,
     "metadata": {},
     "output_type": "execute_result"
    }
   ],
   "source": [
    "df_data['message'][1]"
   ]
  },
  {
   "cell_type": "code",
   "execution_count": null,
   "metadata": {},
   "outputs": [],
   "source": []
  },
  {
   "cell_type": "markdown",
   "metadata": {},
   "source": [
    "# Part II: Twitter Public API Case Study: Python and CML"
   ]
  },
  {
   "cell_type": "markdown",
   "metadata": {},
   "source": [
    "#### CML install python package"
   ]
  },
  {
   "cell_type": "code",
   "execution_count": 8,
   "metadata": {},
   "outputs": [
    {
     "name": "stdout",
     "output_type": "stream",
     "text": [
      "Requirement already satisfied: twitterscraper in /Users/song/anaconda3/lib/python3.6/site-packages (0.6.2)\r\n",
      "Requirement already satisfied: fake-useragent in /Users/song/anaconda3/lib/python3.6/site-packages (from twitterscraper) (0.1.10)\r\n",
      "Requirement already satisfied: coala-utils~=0.5.0 in /Users/song/anaconda3/lib/python3.6/site-packages (from twitterscraper) (0.5.1)\r\n",
      "Requirement already satisfied: lxml in /Users/song/anaconda3/lib/python3.6/site-packages (from twitterscraper) (4.1.1)\r\n",
      "Requirement already satisfied: requests in /Users/song/anaconda3/lib/python3.6/site-packages (from twitterscraper) (2.18.4)\r\n",
      "Requirement already satisfied: bs4 in /Users/song/anaconda3/lib/python3.6/site-packages (from twitterscraper) (0.0.1)\r\n",
      "Requirement already satisfied: chardet<3.1.0,>=3.0.2 in /Users/song/anaconda3/lib/python3.6/site-packages (from requests->twitterscraper) (3.0.4)\r\n",
      "Requirement already satisfied: idna<2.7,>=2.5 in /Users/song/anaconda3/lib/python3.6/site-packages (from requests->twitterscraper) (2.6)\r\n",
      "Requirement already satisfied: urllib3<1.23,>=1.21.1 in /Users/song/anaconda3/lib/python3.6/site-packages (from requests->twitterscraper) (1.22)\r\n",
      "Requirement already satisfied: certifi>=2017.4.17 in /Users/song/anaconda3/lib/python3.6/site-packages (from requests->twitterscraper) (2018.4.16)\r\n",
      "Requirement already satisfied: beautifulsoup4 in /Users/song/anaconda3/lib/python3.6/site-packages (from bs4->twitterscraper) (4.6.0)\r\n"
     ]
    }
   ],
   "source": [
    "!pip install twitterscraper"
   ]
  },
  {
   "cell_type": "markdown",
   "metadata": {},
   "source": [
    "#### CML to get tweets stored to JSON\n",
    "* This will scrap 100 tweets regarding key words “BTC” or “Bitcoin” during 2018-02-01 to 2018-03-01.\n",
    "* JSON file will be stored in the local file system with file name `bitcoin_tweets.json`."
   ]
  },
  {
   "cell_type": "code",
   "execution_count": 36,
   "metadata": {},
   "outputs": [
    {
     "name": "stdout",
     "output_type": "stream",
     "text": [
      "INFO: Querying Bitcoin OR BTC since:2017-01-01 until:2017-01-08\n",
      "INFO: Querying Bitcoin OR BTC since:2017-01-08 until:2017-01-15\n",
      "INFO: Querying Bitcoin OR BTC since:2017-01-22 until:2017-01-29\n",
      "INFO: Querying Bitcoin OR BTC since:2017-01-29 until:2017-02-05\n",
      "INFO: Querying Bitcoin OR BTC since:2017-01-15 until:2017-01-22\n",
      "INFO: Querying Bitcoin OR BTC since:2017-02-05 until:2017-02-12\n",
      "INFO: Querying Bitcoin OR BTC since:2017-02-19 until:2017-02-26\n",
      "INFO: Querying Bitcoin OR BTC since:2017-02-26 until:2017-03-05\n",
      "INFO: Querying Bitcoin OR BTC since:2017-02-12 until:2017-02-19\n",
      "INFO: Querying Bitcoin OR BTC since:2017-03-05 until:2017-03-12\n",
      "INFO: Querying Bitcoin OR BTC since:2017-03-12 until:2017-03-19\n",
      "INFO: Querying Bitcoin OR BTC since:2017-03-19 until:2017-03-26\n",
      "INFO: Querying Bitcoin OR BTC since:2017-03-26 until:2017-04-02\n",
      "INFO: Querying Bitcoin OR BTC since:2017-04-02 until:2017-04-09\n",
      "INFO: Querying Bitcoin OR BTC since:2017-04-16 until:2017-04-23\n",
      "INFO: Querying Bitcoin OR BTC since:2017-04-09 until:2017-04-16\n",
      "INFO: Querying Bitcoin OR BTC since:2017-04-23 until:2017-04-30\n",
      "INFO: Querying Bitcoin OR BTC since:2017-04-30 until:2017-05-07\n",
      "INFO: Querying Bitcoin OR BTC since:2017-05-07 until:2017-05-14\n",
      "INFO: Querying Bitcoin OR BTC since:2017-05-14 until:2017-05-21\n",
      "INFO: Got 20 tweets for Bitcoin%20OR%20BTC%20since%3A2017-02-05%20until%3A2017-02-12.\n",
      "INFO: Querying Bitcoin OR BTC since:2017-05-21 until:2017-06-01\n",
      "INFO: Got 20 tweets (20 new).\n",
      "INFO: Got 0 tweets for Bitcoin%20OR%20BTC%20since%3A2017-05-07%20until%3A2017-05-14.\n",
      "INFO: Got 20 tweets (0 new).\n",
      "INFO: Got 0 tweets for Bitcoin%20OR%20BTC%20since%3A2017-04-09%20until%3A2017-04-16.\n",
      "INFO: Got 20 tweets (0 new).\n",
      "INFO: Got 0 tweets for Bitcoin%20OR%20BTC%20since%3A2017-02-19%20until%3A2017-02-26.\n",
      "INFO: Got 20 tweets (0 new).\n",
      "INFO: Got 0 tweets for Bitcoin%20OR%20BTC%20since%3A2017-01-22%20until%3A2017-01-29.\n",
      "INFO: Got 20 tweets (0 new).\n",
      "INFO: Got 0 tweets for Bitcoin%20OR%20BTC%20since%3A2017-01-15%20until%3A2017-01-22.\n",
      "INFO: Got 20 tweets (0 new).\n",
      "INFO: Got 0 tweets for Bitcoin%20OR%20BTC%20since%3A2017-03-26%20until%3A2017-04-02.\n",
      "INFO: Got 20 tweets (0 new).\n",
      "INFO: Got 0 tweets for Bitcoin%20OR%20BTC%20since%3A2017-01-29%20until%3A2017-02-05.\n",
      "INFO: Got 20 tweets (0 new).\n",
      "INFO: Got 0 tweets for Bitcoin%20OR%20BTC%20since%3A2017-02-12%20until%3A2017-02-19.\n",
      "INFO: Got 20 tweets (0 new).\n",
      "INFO: Got 0 tweets for Bitcoin%20OR%20BTC%20since%3A2017-02-26%20until%3A2017-03-05.\n",
      "INFO: Got 20 tweets (0 new).\n",
      "INFO: Got 0 tweets for Bitcoin%20OR%20BTC%20since%3A2017-01-08%20until%3A2017-01-15.\n",
      "INFO: Got 0 tweets for Bitcoin%20OR%20BTC%20since%3A2017-04-02%20until%3A2017-04-09.\n",
      "INFO: Got 20 tweets (0 new).\n",
      "INFO: Got 20 tweets (0 new).\n",
      "INFO: Got 0 tweets for Bitcoin%20OR%20BTC%20since%3A2017-04-16%20until%3A2017-04-23.\n",
      "INFO: Got 20 tweets (0 new).\n",
      "INFO: Got 20 tweets for Bitcoin%20OR%20BTC%20since%3A2017-01-01%20until%3A2017-01-08.\n",
      "INFO: Got 40 tweets (20 new).\n",
      "INFO: Got 0 tweets for Bitcoin%20OR%20BTC%20since%3A2017-03-12%20until%3A2017-03-19.\n",
      "INFO: Got 40 tweets (0 new).\n",
      "INFO: Got 0 tweets for Bitcoin%20OR%20BTC%20since%3A2017-04-23%20until%3A2017-04-30.\n",
      "INFO: Got 40 tweets (0 new).\n",
      "INFO: Got 0 tweets for Bitcoin%20OR%20BTC%20since%3A2017-05-14%20until%3A2017-05-21.\n",
      "INFO: Got 40 tweets (0 new).\n",
      "INFO: Got 0 tweets for Bitcoin%20OR%20BTC%20since%3A2017-03-19%20until%3A2017-03-26.\n",
      "INFO: Got 40 tweets (0 new).\n",
      "INFO: Got 0 tweets for Bitcoin%20OR%20BTC%20since%3A2017-04-30%20until%3A2017-05-07.\n",
      "INFO: Got 40 tweets (0 new).\n",
      "INFO: Got 0 tweets for Bitcoin%20OR%20BTC%20since%3A2017-03-05%20until%3A2017-03-12.\n",
      "INFO: Got 40 tweets (0 new).\n",
      "INFO: Got 0 tweets for Bitcoin%20OR%20BTC%20since%3A2017-05-21%20until%3A2017-06-01.\n",
      "INFO: Got 40 tweets (0 new).\n"
     ]
    }
   ],
   "source": [
    "!twitterscraper 'Bitcoin OR BTC' -l 100 -bd 2017-01-01 -ed 2017-06-01 -o bitcoin_tweets.json\n",
    "#!twitterscraper 'Bitcoin OR BTC ' -l 100 --lang LANG -p 15 -bd 2018-02-01 -ed 2018-03-01 -o bitcoin_tweets.json"
   ]
  },
  {
   "cell_type": "markdown",
   "metadata": {},
   "source": [
    "#### Python code to convert JSON file to excel"
   ]
  },
  {
   "cell_type": "code",
   "execution_count": null,
   "metadata": {},
   "outputs": [],
   "source": [
    "import json\n",
    "import pandas as pd\n",
    "data = pd.read_json('bitcoin_tweets.json')\n",
    "data = data.drop(['html','url'], axis=1) \n",
    "writer = pd.ExcelWriter('output.xlsx')\n",
    "data.to_excel(writer,'Sheet1')\n",
    "writer.save()"
   ]
  },
  {
   "cell_type": "code",
   "execution_count": 39,
   "metadata": {},
   "outputs": [
    {
     "data": {
      "text/html": [
       "<div>\n",
       "<style scoped>\n",
       "    .dataframe tbody tr th:only-of-type {\n",
       "        vertical-align: middle;\n",
       "    }\n",
       "\n",
       "    .dataframe tbody tr th {\n",
       "        vertical-align: top;\n",
       "    }\n",
       "\n",
       "    .dataframe thead th {\n",
       "        text-align: right;\n",
       "    }\n",
       "</style>\n",
       "<table border=\"1\" class=\"dataframe\">\n",
       "  <thead>\n",
       "    <tr style=\"text-align: right;\">\n",
       "      <th></th>\n",
       "      <th>fullname</th>\n",
       "      <th>id</th>\n",
       "      <th>likes</th>\n",
       "      <th>replies</th>\n",
       "      <th>retweets</th>\n",
       "      <th>text</th>\n",
       "      <th>timestamp</th>\n",
       "      <th>user</th>\n",
       "    </tr>\n",
       "  </thead>\n",
       "  <tbody>\n",
       "    <tr>\n",
       "      <th>0</th>\n",
       "      <td>WHO</td>\n",
       "      <td>830567078386085888</td>\n",
       "      <td>0</td>\n",
       "      <td>0</td>\n",
       "      <td>0</td>\n",
       "      <td>BIGDDL CRYPTOCURRENCY (BITCOIN,ALTCOIN,ETHEREU...</td>\n",
       "      <td>2017-02-11 23:59:57</td>\n",
       "      <td>WHODISCO</td>\n",
       "    </tr>\n",
       "    <tr>\n",
       "      <th>1</th>\n",
       "      <td>千紗</td>\n",
       "      <td>830567057619947520</td>\n",
       "      <td>0</td>\n",
       "      <td>0</td>\n",
       "      <td>0</td>\n",
       "      <td>こちらこそありがとうございます〜〜！！！\\nぜひぜひ！仲良くしてください(ง ˙ω˙)ว</td>\n",
       "      <td>2017-02-11 23:59:52</td>\n",
       "      <td>tgbnkxx_7s</td>\n",
       "    </tr>\n",
       "    <tr>\n",
       "      <th>2</th>\n",
       "      <td>gL3nnX 🚀</td>\n",
       "      <td>830566945300705280</td>\n",
       "      <td>3</td>\n",
       "      <td>0</td>\n",
       "      <td>0</td>\n",
       "      <td>Already bought my #ICO share, this is a good #...</td>\n",
       "      <td>2017-02-11 23:59:25</td>\n",
       "      <td>gl3nnx</td>\n",
       "    </tr>\n",
       "    <tr>\n",
       "      <th>3</th>\n",
       "      <td>BlockChannel</td>\n",
       "      <td>830566907736707072</td>\n",
       "      <td>0</td>\n",
       "      <td>0</td>\n",
       "      <td>0</td>\n",
       "      <td>BlockChannel:The latest Bitcoin Price Index is...</td>\n",
       "      <td>2017-02-11 23:59:16</td>\n",
       "      <td>BlockChannel</td>\n",
       "    </tr>\n",
       "    <tr>\n",
       "      <th>4</th>\n",
       "      <td>JapanNewsFeeds</td>\n",
       "      <td>830566895161991168</td>\n",
       "      <td>0</td>\n",
       "      <td>0</td>\n",
       "      <td>0</td>\n",
       "      <td>#news #GIGAZINE\\n 中国の3大取引所がBitcoin(ビットコイン)の引き出...</td>\n",
       "      <td>2017-02-11 23:59:13</td>\n",
       "      <td>JapanNewsFeeds</td>\n",
       "    </tr>\n",
       "  </tbody>\n",
       "</table>\n",
       "</div>"
      ],
      "text/plain": [
       "         fullname                  id  likes  replies  retweets  \\\n",
       "0             WHO  830567078386085888      0        0         0   \n",
       "1              千紗  830567057619947520      0        0         0   \n",
       "2        gL3nnX 🚀  830566945300705280      3        0         0   \n",
       "3    BlockChannel  830566907736707072      0        0         0   \n",
       "4  JapanNewsFeeds  830566895161991168      0        0         0   \n",
       "\n",
       "                                                text           timestamp  \\\n",
       "0  BIGDDL CRYPTOCURRENCY (BITCOIN,ALTCOIN,ETHEREU... 2017-02-11 23:59:57   \n",
       "1       こちらこそありがとうございます〜〜！！！\\nぜひぜひ！仲良くしてください(ง ˙ω˙)ว 2017-02-11 23:59:52   \n",
       "2  Already bought my #ICO share, this is a good #... 2017-02-11 23:59:25   \n",
       "3  BlockChannel:The latest Bitcoin Price Index is... 2017-02-11 23:59:16   \n",
       "4  #news #GIGAZINE\\n 中国の3大取引所がBitcoin(ビットコイン)の引き出... 2017-02-11 23:59:13   \n",
       "\n",
       "             user  \n",
       "0        WHODISCO  \n",
       "1      tgbnkxx_7s  \n",
       "2          gl3nnx  \n",
       "3    BlockChannel  \n",
       "4  JapanNewsFeeds  "
      ]
     },
     "execution_count": 39,
     "metadata": {},
     "output_type": "execute_result"
    }
   ],
   "source": [
    "data = pd.read_excel('output.xlsx')\n",
    "data.head()"
   ]
  },
  {
   "cell_type": "markdown",
   "metadata": {},
   "source": [
    "# Part III: web crawling using beautifulsoup"
   ]
  },
  {
   "cell_type": "code",
   "execution_count": 9,
   "metadata": {},
   "outputs": [
    {
     "name": "stdout",
     "output_type": "stream",
     "text": [
      "b'<html>\\n\\t<head>\\n\\n\\t\\t<!--\\n\\t\\tpalette:\\n\\t\\tdark blue: #003F72\\n\\t\\tyellow: #FFD166\\n\\t\\tsalmon: #EF476F\\n\\t\\toffwhite: #e7d7d7\\n\\t\\tLight Blue: #118AB2\\n\\t\\tLight green: #7DDF64\\n\\t\\t-->\\n\\n\\t\\t<meta name=\"viewport\" content = \"width=device-width, initial-scale=1.0\">\\n\\t\\t<title>Python Programming Tutorials</title>\\n\\n\\t\\t<meta name=\"description\" content=\"Python Programming tutorials from beginner to advanced on a massive variety of topics. All video and text tutorials are free.\">\\n\\n\\t\\t<link rel=\"shortcut icon\" href=\"/static/favicon.ico\">\\n\\t\\t<link rel=\"stylesheet\" href=\"/static/css/materialize.min.css\">\\n        <link href=\"https://fonts.googleapis.com/icon?family=Material+Icons\" rel=\"stylesheet\">\\n        <meta name=\"google-site-verification\" content=\"3fLok05gk5gGtWd_VSXbSSSH27F2kr1QqcxYz9vYq2k\" />\\n        <link rel=\"stylesheet\" type=\"text/css\" href=\"/static/css/bootstrap.css\">\\n\\n\\n\\t\\t  <!-- Compiled and minified CSS -->\\n\\n\\t\\t<!-- Compiled and minified JavaScript -->\\n\\n\\t\\t<script src=\"https://code.jquery.com/jquery-2.1.4.min.js\"></script>\\n\\t\\t<script src=\"https://cdnjs.cloudflare.com/ajax/libs/materialize/0.97.3/js/materialize.min.js\"></script>\\n\\n\\n\\n        <style>\\n\\t\\t@media (min-width:992px) {\\n\\t\\t#aside {\\n\\t\\t\\twidth:250px;\\n\\t\\t}\\n\\t\\tpre { tab-size: 4;}\\n\\t\\t.btn {background-color:#FFD166;\\n\\t\\t\\t  color:#000;\\n\\t\\t      height:auto;\\n\\t\\t\\t  font-color:#000;\\n\\t\\t\\t  }\\n\\t\\t.btn:hover {background-color:#FFD166;\\n\\t\\t\\t\\t\\t}\\n\\n\\n\\t\\t</style>\\n\\n\\t\\t<!-- Google Tracking -->\\n\\t\\t<script>\\n\\t\\t\\t  (function(i,s,o,g,r,a,m){i[\\'GoogleAnalyticsObject\\']=r;i[r]=i[r]||function(){\\n\\t\\t\\t  (i[r].q=i[r].q||[]).push(arguments)},i[r].l=1*new Date();a=s.createElement(o),\\n\\t\\t\\t  m=s.getElementsByTagName(o)[0];a.async=1;a.src=g;m.parentNode.insertBefore(a,m)\\n\\t\\t\\t  })(window,document,\\'script\\',\\'//www.google-analytics.com/analytics.js\\',\\'ga\\');\\n\\n\\t\\t\\t  ga(\\'create\\', \\'UA-51891827-1\\', \\'auto\\');\\n\\t\\t\\t  ga(\\'send\\', \\'pageview\\');\\n\\n\\t\\t</script>\\n\\n            \\n                \\n                    <script async src=\"//pagead2.googlesyndication.com/pagead/js/adsbygoogle.js\"></script>\\n                    <script>\\n                         (adsbygoogle = window.adsbygoogle || []).push({\\n                              google_ad_client: \"ca-pub-1579050400541873\",\\n                              enable_page_level_ads: true\\n                         });\\n                    </script>\\n                \\n            \\n\\n\\n\\n\\n\\t</head>\\n\\n\\t<body>\\n\\n\\t\\t<div class=\"navbar-fixed\">\\n\\t\\t\\t<nav style=\"background-color:#003F72\">\\n\\t\\t\\t\\t<div class=\"nav-wrapper container\">\\n\\t\\t\\t\\t\\t<a href=\"/\" class=\"brand-logo\"><img class=\"img-responsive\" style=\"width:50px; height;50px; margin-top:5px\" src=\"/static/images/mainlogowhitethick.jpg\"></a>\\n\\t\\t\\t\\t\\t<a href=\"#\" data-activates=\"navsidebar\" class=\"button-collapse\"><i class=\"mdi-navigation-menu\"></i></a>\\n\\t\\t\\t\\t\\t<ul class=\"right hide-on-med-and-down\">\\n\\t\\t\\t\\t\\t<li><i class=\"material-icons\">search</i></li>\\n\\t\\t\\t\\t\\t<li>\\n\\t\\t\\t\\t\\t\\t<form method=\\'get\\' id=\\'searchform\\' style=\\'height:50px; padding-top:10px\\' action=\\'/search/?l=hi\\'>\\n\\t\\t\\t\\t\\t\\t\\t<input name=\\'q\\' id=\"search\" type=\"search\" placeholder=\"search\"  style=\\'font-size:16px\\'>\\n\\t\\t\\t\\t\\t\\t</form>\\n\\t\\t\\t\\t\\t</li>\\n\\t\\t\\t\\t\\t\\t\\n\\t\\t\\t<li><a href=\"/\">Home</a></li>\\n\\t\\t\\t<li><a class=\"tooltipped\" data-position=\"bottom\" data-delay=\"50\" data-tooltip=\"sudo apt-get upgrade\" href=\"/+=1/\">+=1</a></li>\\n\\t\\t\\t<!--<li><a href=\"/store/python-hoodie/\">Store</a></li>-->\\n\\t\\t\\t<li><a href=\"/support/\">Support the Content</a></li>\\n\\t\\t\\t\\n\\t\\t\\t<li><a href=\"https://goo.gl/7zgAVQ\" target=\\'blank\\'><!--<i class=\"material-icons\">question_answer</i>-->Community</a></li>\\n\\t\\t\\t\\t<li><a href=\"/login/\">Log in</a></li>\\n                <li><a href=\"/register/\">Sign up</a></li>\\n\\t\\t\\t\\n\\n\\t\\t\\t\\t\\t</ul>\\n\\t\\t\\t\\t\\t<ul class=\"side-nav\" id=\"navsidebar\">\\n\\t\\t\\t\\t\\t<li>\\n\\t\\t\\t\\t\\t\\t<form method=\\'get\\' id=\\'searchform\\' style=\\'height:50px; padding-top:10px\\' action=\\'/search/?l=hi\\'>\\n\\t\\t\\t\\t\\t\\t\\t<input name=\\'q\\' id=\"search\" type=\"search\" placeholder=\"search\"  style=\\'font-size:16px\\'>\\n\\t\\t\\t\\t\\t\\t</form>\\n\\t\\t\\t\\t\\t</li>\\n\\t\\t\\t\\t\\t\\t\\n\\t\\t\\t<li><a href=\"/\">Home</a></li>\\n\\t\\t\\t<li><a class=\"tooltipped\" data-position=\"bottom\" data-delay=\"50\" data-tooltip=\"sudo apt-get upgrade\" href=\"/+=1/\">+=1</a></li>\\n\\t\\t\\t<!--<li><a href=\"/store/python-hoodie/\">Store</a></li>-->\\n\\t\\t\\t<li><a href=\"/support/\">Support the Content</a></li>\\n\\t\\t\\t\\n\\t\\t\\t<li><a href=\"https://goo.gl/7zgAVQ\" target=\\'blank\\'><!--<i class=\"material-icons\">question_answer</i>-->Community</a></li>\\n\\t\\t\\t\\t<li><a href=\"/login/\">Log in</a></li>\\n                <li><a href=\"/register/\">Sign up</a></li>\\n\\t\\t\\t\\n\\n\\t\\t\\t\\t\\t</ul>\\n\\t\\t\\t\\t</div>\\n\\t\\t\\t</nav>\\n\\t\\t</div>\\n\\n\\n\\n\\t\\t<!-- main content -->\\n\\t\\t<div class=\"container\" style=\"max-width:1500px; min-height:100%\">\\n\\t\\t\\t<!--Notification:-->\\n            <!--<p style=\"font-size:80%\">TensorFlow.js Livestream:  <a href=\"https://www.youtube.com/watch?v=NjSlj95lliM\" target=\"blank\"><strong>Deep Learning in the browser</strong></a></p>-->\\n            <!--End Notification:-->\\n\\n\\t\\t\\t\\t\\t\\n\\t\\t\\t\\t\\t\\n\\t\\t\\t\\t\\t  \\n\\t\\t\\t\\t\\t\\n\\n\\t\\t\\t\\t\\t\\n\\n<div class=\"body\">\\n\\n\\t<p class=\\'introduction\\'>Oh, hello! This is a <span style=\\'font-size:115%\\'>wonderful</span> page meant to let you practice web scraping. This page was originally created to help people work with the <a href=\"https://www.crummy.com/software/BeautifulSoup/bs4/doc/\" target=\"blank\"><strong>Beautiful Soup 4</strong></a> library.</p>\\n\\n\\t<p>The following table gives some general information for the following <code>programming languages</code>:</p>\\n\\n\\t<ul>\\n\\t\\t<li>Python</li>\\n\\t\\t<li>Pascal</li>\\n\\t\\t<li>Lisp</li>\\n\\t\\t<li>D#</li>\\n\\t\\t<li>Cobol</li>\\n\\t\\t<li>Fortran</li>\\n\\t\\t<li>Haskell</li>\\n\\t</ul>\\n\\n\\n\\t<table style=\"width:100%\">\\n\\n\\t  <tr>\\n\\t    <th>Program Name</th>\\n\\t    <th>Internet Points</th> \\n\\t    <th>Kittens?</th>\\n\\t  </tr>\\n\\n\\t  <tr>\\n\\t    <td>Python</td>\\n\\t    <td>932914021</td> \\n\\t    <td>Definitely</td>\\n\\t  </tr>\\n\\n\\t  <tr>\\n\\t    <td>Pascal</td>\\n\\t    <td>532</td> \\n\\t    <td>Unlikely</td>\\n\\t  </tr>\\n\\n\\n\\t  <tr>\\n\\t    <td>Lisp</td>\\n\\t    <td>1522</td> \\n\\t    <td>Uncertain</td>\\n\\t  </tr>\\n\\n\\n\\t  <tr>\\n\\t    <td>D#</td>\\n\\t    <td>12</td> \\n\\t    <td>Possibly</td>\\n\\t  </tr>\\n\\n\\n\\t  <tr>\\n\\t    <td>Cobol</td>\\n\\t    <td>3</td> \\n\\t    <td>No.</td>\\n\\t  </tr>\\n\\n\\t  <tr>\\n\\t    <td>Fortran</td>\\n\\t    <td>52124</td> \\n\\t    <td>Yes.</td>\\n\\t  </tr>\\n\\n\\t  <tr>\\n\\t    <td>Haskell</td>\\n\\t    <td>24</td> \\n\\t    <td>lol.</td>\\n\\t  </tr>\\n\\n\\t</table>\\n\\n\\t<p>I think it\\'s clear that, on a scale of 1-10, python is:</p>\\n\\n\\t<div class=\\'card hoverable\\'>\\n\\t\\t<div class=\\'card-content\\'>\\n\\t\\t\\t<div class=\\'card-title\\'></div>\\n\\t\\t\\t<img class=\"responsive-img\" src=\"https://s-media-cache-ak0.pinimg.com/originals/e8/2a/ff/e82aff2876b080675449d0cef7685321.jpg\" alt=\"omg batman\" />\\n\\t\\t</div>\\n\\t</div>\\n\\n  <p>Javascript (dynamic data) test:</p>\\n  <p class=\\'jstest\\' id=\\'yesnojs\\'>y u bad tho?</p>\\n  <script>\\n     document.getElementById(\\'yesnojs\\').innerHTML = \\'Look at you shinin!\\';\\n  </script> \\n\\n<br><br>\\n\\t\\n<pre>Beautiful is better than ugly.\\nExplicit is better than implicit.\\nSimple is better than complex.\\nComplex is better than complicated.\\nFlat is better than nested.\\nSparse is better than dense.\\nReadability counts.\\nSpecial cases aren\\'t special enough to break the rules.\\nAlthough practicality beats purity.\\nErrors should never pass silently.\\nUnless explicitly silenced.\\nIn the face of ambiguity, refuse the temptation to guess.\\nThere should be one-- and preferably only one --obvious way to do it.\\nAlthough that way may not be obvious at first unless you\\'re Dutch.\\nNow is better than never.\\nAlthough never is often better than *right* now.\\nIf the implementation is hard to explain, it\\'s a bad idea.\\nIf the implementation is easy to explain, it may be a good idea.\\nNamespaces are one honking great idea -- let\\'s do more of those!</pre>\\n\\n\\t<p>Wh\\xe1\\xb6\\x90t h\\xce\\xb1pp\\xc3\\xa9ns now\\xc2\\xbf</p>\\n\\n\\t<p><a href=\"/sitemap.xml\" target=\"blank\"><strong>sitemap</strong></a></p>\\n\\n</body>\\n\\n\\n\\t\\t\\t</div>\\n\\t\\t</div>\\n\\n\\t\\t<!--login modal-->\\n\\t\\t\\n<div id=\"modalLogin\" class=\"modal\">\\n\\t\\t\\t<div class=\"modal-content\">\\n\\t\\t\\t\\t<h2 class=\"center-align\">Login</h2>\\n\\t\\t\\t\\t<div class=\"center-align\">\\n\\t\\t\\t\\t\\t<div class=\"divider\"></div>\\n\\t\\t\\t\\t\\t\\n\\t\\t\\t\\t\\t<form class=\"col s12\">\\n\\t\\t\\t\\t\\t\\t<div class=\"row center-align\">\\n\\t\\t\\t\\t\\t\\t\\t<div class=\"input-field col m10\">\\n\\t\\t\\t\\t\\t\\t\\t\\t<input id=\"icon_prefix\" type=\"text\" class=\"validate\">\\n\\t\\t\\t\\t\\t\\t\\t\\t<label for=\"icon_prefix\">Username</label>\\n\\t\\t\\t\\t\\t\\t\\t</div>\\n\\t\\t\\t\\t\\t\\t\\t<div class=\"input-field col m10\">\\n\\t\\t\\t\\t\\t\\t\\t\\t<input id=\"icon_password\" type=\"password\" class=\"validate\">\\n\\t\\t\\t\\t\\t\\t\\t\\t<label for=\"icon_password\">Password</label>\\n\\t\\t\\t\\t\\t\\t\\t</div>\\n\\t\\t\\t\\t\\t\\t</div>\\n\\t\\t\\t\\t\\t</form>\\n\\t\\t\\t\\t\\t\\n\\t\\t\\t\\t\\t\\n\\t\\t\\t\\t\\t<div class=\"divider\"></div>\\n\\t\\t\\t\\t\\t<p>\\n\\t\\t\\t\\t\\t\\t<a href=\"#\" class=\"btn btn-flat white modal-close\">Cancel</a> &nbsp;\\n\\t\\t\\t\\t\\t\\t<a href=\"#\" class=\"waves-effect waves-blue blue btn btn-flat modal-action modal-close\">Login</a>\\n\\t\\t\\t\\t\\t</p>\\n\\t\\t\\t\\t\\t\\n\\t\\t\\t\\t\\t\\n\\t\\t\\t\\t</div>\\n\\t\\t\\t</div>\\n\\t\\t</div>\\n\\n\\n\\n\\t\\t<!--Register modal-->\\n\\t\\t\\n\\t\\t<div id=\"modalRegister\" class=\"modal\">\\n\\t\\t\\t<div class=\"modal-content\">\\n\\t\\t\\t\\t<h2 class=\"center-align\">Sign up</h2>\\n\\t\\t\\t\\t<div class=\"center-align\">\\n\\t\\t\\t\\t\\t<div class=\"divider\"></div>\\n\\t\\t\\t\\t\\t\\n\\t\\t\\t\\t\\t<form action=\"/register/\" method=post >\\n\\t\\t\\t\\t\\t\\t\\t<div class=\"input-field col\">\\n\\t\\t\\t\\t\\t\\t\\t\\t<input id=\"username\" type=\"text\" class=\"validate\">\\n\\t\\t\\t\\t\\t\\t\\t\\t<label for=\"username\">Username</label>\\n\\t\\t\\t\\t\\t\\t\\t</div>\\n\\t\\t\\t\\t\\t\\t\\t<div class=\"input-field col\">\\n\\t\\t\\t\\t\\t\\t\\t\\t<input id=\"password\" type=\"password\" class=\"validate\">\\n\\t\\t\\t\\t\\t\\t\\t\\t<label for=\"password\">Password</label>\\n\\t\\t\\t\\t\\t\\t\\t</div>\\n\\t\\t\\t\\t\\t\\t\\t<div class=\"input-field col\">\\n\\t\\t\\t\\t\\t\\t\\t\\t<input id=\"confirm\" type=\"password\" class=\"validate\">\\n\\t\\t\\t\\t\\t\\t\\t\\t<label for=\"confirm\">Repeat Password</label>\\n\\t\\t\\t\\t\\t\\t\\t</div>\\n\\t\\t\\t\\t\\t\\t\\t\\n\\t\\t\\t\\t\\t\\t\\t<div class=\"input-field col\">\\n\\t\\t\\t\\t\\t\\t\\t\\t<input id=\"email\" type=\"text\" class=\"validate\">\\n\\t\\t\\t\\t\\t\\t\\t\\t<label for=\"email\">Email</label>\\n\\t\\t\\t\\t\\t\\t\\t</div>\\n\\n\\t\\t\\t\\t\\t\\t\\t<div class=\"divider\"></div>\\n\\t\\t\\t\\t\\t\\t\\t<p>\\n\\t\\t\\t\\t\\t\\t\\t\\t<a href=\"#\" class=\"btn btn-flat white modal-close\">Cancel</a> &nbsp;\\n\\t\\t\\t\\t\\t\\t\\t\\t<button class=\"btn\" type=submit value=Register>Sign Up</button>\\n\\t\\t\\t\\t\\t\\t\\t</p>\\n\\n\\t\\t\\t\\t\\t</form>\\n\\n\\t\\t\\t\\t\\t\\n\\n\\t\\t\\t\\t</div>\\n\\t\\t\\t</div>\\n\\t\\t</div>\\n\\n\\n\\n\\n\\t\\t<script>\\n\\t\\t\\t$(document).ready(function(){\\n\\t\\t\\t\\t$(\".button-collapse\").sideNav();\\n\\t\\t\\t\\t$(\\'.modal-trigger\\').leanModal();\\n\\t\\t\\t\\t$(\\'.collapsible\\').collapsible({\\n\\t\\t\\t\\t  accordion : false // A setting that changes the collapsible behavior to expandable instead of the default accordion style\\n\\t\\t\\t\\t});\\n\\t\\t\\t\\t$(\\'#aside\\').pushpin({ top:110, bottom:500 });\\n\\t\\t  });\\n\\t\\t</script>\\n\\t\\t<script>\\n\\t\\t  $(document).ready(function(){\\n\\t\\t\\t$(\\'.collapsible\\').collapsible({\\n\\t\\t\\t  accordion : false // A setting that changes the collapsible behavior to expandable instead of the default accordion style\\n\\t\\t\\t});\\n\\t\\t\\t$(\\'select\\').material_select();\\n\\t\\t  });\\n\\t  </script>\\n\\t  <script>\\n\\t\\tfunction goBack() {\\n\\t\\t\\twindow.history.back()\\n\\t\\t}\\n\\t</script>\\n\\t\\t<script type=\"text/javascript\" src=\"/static/js/run_prettify.js\"></script>\\n\\n\\t</body>\\n\\n<footer class=\"page-footer\">\\n          <div class=\"container\">\\n            <div class=\"row\">\\n              <div class=\"col l6 s12\">\\n                <h5 class=\"white-text\">You\\'ve reached the end!</h5>\\n\\n                <p class=\"grey-text text-lighten-4\">Contact: Harrison@pythonprogramming.net.</p>\\n                <ul>\\n                  <li><a class=\"grey-text text-lighten-3\" href=\"/support-donate/\">Support this Website!</a></li>\\n                  <li><a class=\"grey-text text-lighten-3\" href=\"/consulting/\">Hire me</a></li>\\n                  <li><a class=\"grey-text text-lighten-3\" href=\"https://www.facebook.com/pythonprogramming.net/\">Facebook</a></li>\\n                  <li><a class=\"grey-text text-lighten-3\" href=\"https://twitter.com/sentdex\">Twitter</a></li>\\n                  <li><a class=\"grey-text text-lighten-3\" href=\"https://plus.google.com/+sentdex\">Google+</a></li>\\n                </ul>\\n              </div>\\n              <div class=\"col l4 offset-l2 s12\">\\n                <h6 class=\"white-text\">Legal stuff:</h6>\\n                <ul>\\n                  <li><a class=\"grey-text text-lighten-3\" href=\"/about/tos/\">Terms and Conditions</a></li>\\n                  <li><a class=\"grey-text text-lighten-3\" href=\"/about/privacy-policy/\">Privacy Policy</a></li>\\n\\n                </ul>\\n              </div>\\n            </div>\\n          </div>\\n          <a href=\"https://xkcd.com/353/\" target=\\'blank\\'><p class=\"grey-text right\" style=\\'padding-right:10px\\'>Programming is a superpower.</p></a>\\n          <div class=\"footer-copyright\">\\n            <div class=\"container\">\\n            \\xc2\\xa9 OVER 9000! PythonProgramming.net\\n\\n            </div>\\n\\n          </div>\\n        </footer>\\n\\n</html>\\n\\n\\n\\n\\n\\n\\n\\n\\n\\n\\n\\n\\n\\n\\n'\n"
     ]
    }
   ],
   "source": [
    "import bs4 as bs\n",
    "import urllib.request as req\n",
    "\n",
    "sauce = req.urlopen('https://pythonprogramming.net/parsememcparseface/').read()\n",
    "print(sauce)"
   ]
  },
  {
   "cell_type": "code",
   "execution_count": 13,
   "metadata": {},
   "outputs": [
    {
     "data": {
      "text/plain": [
       "bs4.BeautifulSoup"
      ]
     },
     "execution_count": 13,
     "metadata": {},
     "output_type": "execute_result"
    }
   ],
   "source": [
    "soup = bs.BeautifulSoup(sauce, 'lxml')\n",
    "type(soup)"
   ]
  },
  {
   "cell_type": "code",
   "execution_count": 14,
   "metadata": {},
   "outputs": [
    {
     "name": "stdout",
     "output_type": "stream",
     "text": [
      "<html>\n",
      "<head>\n",
      "<!--\n",
      "\t\tpalette:\n",
      "\t\tdark blue: #003F72\n",
      "\t\tyellow: #FFD166\n",
      "\t\tsalmon: #EF476F\n",
      "\t\toffwhite: #e7d7d7\n",
      "\t\tLight Blue: #118AB2\n",
      "\t\tLight green: #7DDF64\n",
      "\t\t-->\n",
      "<meta content=\"width=device-width, initial-scale=1.0\" name=\"viewport\"/>\n",
      "<title>Python Programming Tutorials</title>\n",
      "<meta content=\"Python Programming tutorials from beginner to advanced on a massive variety of topics. All video and text tutorials are free.\" name=\"description\"/>\n",
      "<link href=\"/static/favicon.ico\" rel=\"shortcut icon\"/>\n",
      "<link href=\"/static/css/materialize.min.css\" rel=\"stylesheet\"/>\n",
      "<link href=\"https://fonts.googleapis.com/icon?family=Material+Icons\" rel=\"stylesheet\"/>\n",
      "<meta content=\"3fLok05gk5gGtWd_VSXbSSSH27F2kr1QqcxYz9vYq2k\" name=\"google-site-verification\"/>\n",
      "<link href=\"/static/css/bootstrap.css\" rel=\"stylesheet\" type=\"text/css\"/>\n",
      "<!-- Compiled and minified CSS -->\n",
      "<!-- Compiled and minified JavaScript -->\n",
      "<script src=\"https://code.jquery.com/jquery-2.1.4.min.js\"></script>\n",
      "<script src=\"https://cdnjs.cloudflare.com/ajax/libs/materialize/0.97.3/js/materialize.min.js\"></script>\n",
      "<style>\n",
      "\t\t@media (min-width:992px) {\n",
      "\t\t#aside {\n",
      "\t\t\twidth:250px;\n",
      "\t\t}\n",
      "\t\tpre { tab-size: 4;}\n",
      "\t\t.btn {background-color:#FFD166;\n",
      "\t\t\t  color:#000;\n",
      "\t\t      height:auto;\n",
      "\t\t\t  font-color:#000;\n",
      "\t\t\t  }\n",
      "\t\t.btn:hover {background-color:#FFD166;\n",
      "\t\t\t\t\t}\n",
      "\n",
      "\n",
      "\t\t</style>\n",
      "<!-- Google Tracking -->\n",
      "<script>\n",
      "\t\t\t  (function(i,s,o,g,r,a,m){i['GoogleAnalyticsObject']=r;i[r]=i[r]||function(){\n",
      "\t\t\t  (i[r].q=i[r].q||[]).push(arguments)},i[r].l=1*new Date();a=s.createElement(o),\n",
      "\t\t\t  m=s.getElementsByTagName(o)[0];a.async=1;a.src=g;m.parentNode.insertBefore(a,m)\n",
      "\t\t\t  })(window,document,'script','//www.google-analytics.com/analytics.js','ga');\n",
      "\n",
      "\t\t\t  ga('create', 'UA-51891827-1', 'auto');\n",
      "\t\t\t  ga('send', 'pageview');\n",
      "\n",
      "\t\t</script>\n",
      "<script async=\"\" src=\"//pagead2.googlesyndication.com/pagead/js/adsbygoogle.js\"></script>\n",
      "<script>\n",
      "                         (adsbygoogle = window.adsbygoogle || []).push({\n",
      "                              google_ad_client: \"ca-pub-1579050400541873\",\n",
      "                              enable_page_level_ads: true\n",
      "                         });\n",
      "                    </script>\n",
      "</head>\n",
      "<body>\n",
      "<div class=\"navbar-fixed\">\n",
      "<nav style=\"background-color:#003F72\">\n",
      "<div class=\"nav-wrapper container\">\n",
      "<a class=\"brand-logo\" href=\"/\"><img class=\"img-responsive\" src=\"/static/images/mainlogowhitethick.jpg\" style=\"width:50px; height;50px; margin-top:5px\"/></a>\n",
      "<a class=\"button-collapse\" data-activates=\"navsidebar\" href=\"#\"><i class=\"mdi-navigation-menu\"></i></a>\n",
      "<ul class=\"right hide-on-med-and-down\">\n",
      "<li><i class=\"material-icons\">search</i></li>\n",
      "<li>\n",
      "<form action=\"/search/?l=hi\" id=\"searchform\" method=\"get\" style=\"height:50px; padding-top:10px\">\n",
      "<input id=\"search\" name=\"q\" placeholder=\"search\" style=\"font-size:16px\" type=\"search\"/>\n",
      "</form>\n",
      "</li>\n",
      "<li><a href=\"/\">Home</a></li>\n",
      "<li><a class=\"tooltipped\" data-delay=\"50\" data-position=\"bottom\" data-tooltip=\"sudo apt-get upgrade\" href=\"/+=1/\">+=1</a></li>\n",
      "<!--<li><a href=\"/store/python-hoodie/\">Store</a></li>-->\n",
      "<li><a href=\"/support/\">Support the Content</a></li>\n",
      "<li><a href=\"https://goo.gl/7zgAVQ\" target=\"blank\"><!--<i class=\"material-icons\">question_answer</i>-->Community</a></li>\n",
      "<li><a href=\"/login/\">Log in</a></li>\n",
      "<li><a href=\"/register/\">Sign up</a></li>\n",
      "</ul>\n",
      "<ul class=\"side-nav\" id=\"navsidebar\">\n",
      "<li>\n",
      "<form action=\"/search/?l=hi\" id=\"searchform\" method=\"get\" style=\"height:50px; padding-top:10px\">\n",
      "<input id=\"search\" name=\"q\" placeholder=\"search\" style=\"font-size:16px\" type=\"search\"/>\n",
      "</form>\n",
      "</li>\n",
      "<li><a href=\"/\">Home</a></li>\n",
      "<li><a class=\"tooltipped\" data-delay=\"50\" data-position=\"bottom\" data-tooltip=\"sudo apt-get upgrade\" href=\"/+=1/\">+=1</a></li>\n",
      "<!--<li><a href=\"/store/python-hoodie/\">Store</a></li>-->\n",
      "<li><a href=\"/support/\">Support the Content</a></li>\n",
      "<li><a href=\"https://goo.gl/7zgAVQ\" target=\"blank\"><!--<i class=\"material-icons\">question_answer</i>-->Community</a></li>\n",
      "<li><a href=\"/login/\">Log in</a></li>\n",
      "<li><a href=\"/register/\">Sign up</a></li>\n",
      "</ul>\n",
      "</div>\n",
      "</nav>\n",
      "</div>\n",
      "<!-- main content -->\n",
      "<div class=\"container\" style=\"max-width:1500px; min-height:100%\">\n",
      "<!--Notification:-->\n",
      "<!--<p style=\"font-size:80%\">TensorFlow.js Livestream:  <a href=\"https://www.youtube.com/watch?v=NjSlj95lliM\" target=\"blank\"><strong>Deep Learning in the browser</strong></a></p>-->\n",
      "<!--End Notification:-->\n",
      "<div class=\"body\">\n",
      "<p class=\"introduction\">Oh, hello! This is a <span style=\"font-size:115%\">wonderful</span> page meant to let you practice web scraping. This page was originally created to help people work with the <a href=\"https://www.crummy.com/software/BeautifulSoup/bs4/doc/\" target=\"blank\"><strong>Beautiful Soup 4</strong></a> library.</p>\n",
      "<p>The following table gives some general information for the following <code>programming languages</code>:</p>\n",
      "<ul>\n",
      "<li>Python</li>\n",
      "<li>Pascal</li>\n",
      "<li>Lisp</li>\n",
      "<li>D#</li>\n",
      "<li>Cobol</li>\n",
      "<li>Fortran</li>\n",
      "<li>Haskell</li>\n",
      "</ul>\n",
      "<table style=\"width:100%\">\n",
      "<tr>\n",
      "<th>Program Name</th>\n",
      "<th>Internet Points</th>\n",
      "<th>Kittens?</th>\n",
      "</tr>\n",
      "<tr>\n",
      "<td>Python</td>\n",
      "<td>932914021</td>\n",
      "<td>Definitely</td>\n",
      "</tr>\n",
      "<tr>\n",
      "<td>Pascal</td>\n",
      "<td>532</td>\n",
      "<td>Unlikely</td>\n",
      "</tr>\n",
      "<tr>\n",
      "<td>Lisp</td>\n",
      "<td>1522</td>\n",
      "<td>Uncertain</td>\n",
      "</tr>\n",
      "<tr>\n",
      "<td>D#</td>\n",
      "<td>12</td>\n",
      "<td>Possibly</td>\n",
      "</tr>\n",
      "<tr>\n",
      "<td>Cobol</td>\n",
      "<td>3</td>\n",
      "<td>No.</td>\n",
      "</tr>\n",
      "<tr>\n",
      "<td>Fortran</td>\n",
      "<td>52124</td>\n",
      "<td>Yes.</td>\n",
      "</tr>\n",
      "<tr>\n",
      "<td>Haskell</td>\n",
      "<td>24</td>\n",
      "<td>lol.</td>\n",
      "</tr>\n",
      "</table>\n",
      "<p>I think it's clear that, on a scale of 1-10, python is:</p>\n",
      "<div class=\"card hoverable\">\n",
      "<div class=\"card-content\">\n",
      "<div class=\"card-title\"></div>\n",
      "<img alt=\"omg batman\" class=\"responsive-img\" src=\"https://s-media-cache-ak0.pinimg.com/originals/e8/2a/ff/e82aff2876b080675449d0cef7685321.jpg\"/>\n",
      "</div>\n",
      "</div>\n",
      "<p>Javascript (dynamic data) test:</p>\n",
      "<p class=\"jstest\" id=\"yesnojs\">y u bad tho?</p>\n",
      "<script>\n",
      "     document.getElementById('yesnojs').innerHTML = 'Look at you shinin!';\n",
      "  </script>\n",
      "<br/><br/>\n",
      "<pre>Beautiful is better than ugly.\n",
      "Explicit is better than implicit.\n",
      "Simple is better than complex.\n",
      "Complex is better than complicated.\n",
      "Flat is better than nested.\n",
      "Sparse is better than dense.\n",
      "Readability counts.\n",
      "Special cases aren't special enough to break the rules.\n",
      "Although practicality beats purity.\n",
      "Errors should never pass silently.\n",
      "Unless explicitly silenced.\n",
      "In the face of ambiguity, refuse the temptation to guess.\n",
      "There should be one-- and preferably only one --obvious way to do it.\n",
      "Although that way may not be obvious at first unless you're Dutch.\n",
      "Now is better than never.\n",
      "Although never is often better than *right* now.\n",
      "If the implementation is hard to explain, it's a bad idea.\n",
      "If the implementation is easy to explain, it may be a good idea.\n",
      "Namespaces are one honking great idea -- let's do more of those!</pre>\n",
      "<p>Whᶐt hαppéns now¿</p>\n",
      "<p><a href=\"/sitemap.xml\" target=\"blank\"><strong>sitemap</strong></a></p>\n",
      "</div></div></body>\n",
      "<!--login modal-->\n",
      "<div class=\"modal\" id=\"modalLogin\">\n",
      "<div class=\"modal-content\">\n",
      "<h2 class=\"center-align\">Login</h2>\n",
      "<div class=\"center-align\">\n",
      "<div class=\"divider\"></div>\n",
      "<form class=\"col s12\">\n",
      "<div class=\"row center-align\">\n",
      "<div class=\"input-field col m10\">\n",
      "<input class=\"validate\" id=\"icon_prefix\" type=\"text\"/>\n",
      "<label for=\"icon_prefix\">Username</label>\n",
      "</div>\n",
      "<div class=\"input-field col m10\">\n",
      "<input class=\"validate\" id=\"icon_password\" type=\"password\"/>\n",
      "<label for=\"icon_password\">Password</label>\n",
      "</div>\n",
      "</div>\n",
      "</form>\n",
      "<div class=\"divider\"></div>\n",
      "<p>\n",
      "<a class=\"btn btn-flat white modal-close\" href=\"#\">Cancel</a>  \n",
      "\t\t\t\t\t\t<a class=\"waves-effect waves-blue blue btn btn-flat modal-action modal-close\" href=\"#\">Login</a>\n",
      "</p>\n",
      "</div>\n",
      "</div>\n",
      "</div>\n",
      "<!--Register modal-->\n",
      "<div class=\"modal\" id=\"modalRegister\">\n",
      "<div class=\"modal-content\">\n",
      "<h2 class=\"center-align\">Sign up</h2>\n",
      "<div class=\"center-align\">\n",
      "<div class=\"divider\"></div>\n",
      "<form action=\"/register/\" method=\"post\">\n",
      "<div class=\"input-field col\">\n",
      "<input class=\"validate\" id=\"username\" type=\"text\"/>\n",
      "<label for=\"username\">Username</label>\n",
      "</div>\n",
      "<div class=\"input-field col\">\n",
      "<input class=\"validate\" id=\"password\" type=\"password\"/>\n",
      "<label for=\"password\">Password</label>\n",
      "</div>\n",
      "<div class=\"input-field col\">\n",
      "<input class=\"validate\" id=\"confirm\" type=\"password\"/>\n",
      "<label for=\"confirm\">Repeat Password</label>\n",
      "</div>\n",
      "<div class=\"input-field col\">\n",
      "<input class=\"validate\" id=\"email\" type=\"text\"/>\n",
      "<label for=\"email\">Email</label>\n",
      "</div>\n",
      "<div class=\"divider\"></div>\n",
      "<p>\n",
      "<a class=\"btn btn-flat white modal-close\" href=\"#\">Cancel</a>  \n",
      "\t\t\t\t\t\t\t\t<button class=\"btn\" type=\"submit\" value=\"Register\">Sign Up</button>\n",
      "</p>\n",
      "</form>\n",
      "</div>\n",
      "</div>\n",
      "</div>\n",
      "<script>\n",
      "\t\t\t$(document).ready(function(){\n",
      "\t\t\t\t$(\".button-collapse\").sideNav();\n",
      "\t\t\t\t$('.modal-trigger').leanModal();\n",
      "\t\t\t\t$('.collapsible').collapsible({\n",
      "\t\t\t\t  accordion : false // A setting that changes the collapsible behavior to expandable instead of the default accordion style\n",
      "\t\t\t\t});\n",
      "\t\t\t\t$('#aside').pushpin({ top:110, bottom:500 });\n",
      "\t\t  });\n",
      "\t\t</script>\n",
      "<script>\n",
      "\t\t  $(document).ready(function(){\n",
      "\t\t\t$('.collapsible').collapsible({\n",
      "\t\t\t  accordion : false // A setting that changes the collapsible behavior to expandable instead of the default accordion style\n",
      "\t\t\t});\n",
      "\t\t\t$('select').material_select();\n",
      "\t\t  });\n",
      "\t  </script>\n",
      "<script>\n",
      "\t\tfunction goBack() {\n",
      "\t\t\twindow.history.back()\n",
      "\t\t}\n",
      "\t</script>\n",
      "<script src=\"/static/js/run_prettify.js\" type=\"text/javascript\"></script>\n",
      "<footer class=\"page-footer\">\n",
      "<div class=\"container\">\n",
      "<div class=\"row\">\n",
      "<div class=\"col l6 s12\">\n",
      "<h5 class=\"white-text\">You've reached the end!</h5>\n",
      "<p class=\"grey-text text-lighten-4\">Contact: Harrison@pythonprogramming.net.</p>\n",
      "<ul>\n",
      "<li><a class=\"grey-text text-lighten-3\" href=\"/support-donate/\">Support this Website!</a></li>\n",
      "<li><a class=\"grey-text text-lighten-3\" href=\"/consulting/\">Hire me</a></li>\n",
      "<li><a class=\"grey-text text-lighten-3\" href=\"https://www.facebook.com/pythonprogramming.net/\">Facebook</a></li>\n",
      "<li><a class=\"grey-text text-lighten-3\" href=\"https://twitter.com/sentdex\">Twitter</a></li>\n",
      "<li><a class=\"grey-text text-lighten-3\" href=\"https://plus.google.com/+sentdex\">Google+</a></li>\n",
      "</ul>\n",
      "</div>\n",
      "<div class=\"col l4 offset-l2 s12\">\n",
      "<h6 class=\"white-text\">Legal stuff:</h6>\n",
      "<ul>\n",
      "<li><a class=\"grey-text text-lighten-3\" href=\"/about/tos/\">Terms and Conditions</a></li>\n",
      "<li><a class=\"grey-text text-lighten-3\" href=\"/about/privacy-policy/\">Privacy Policy</a></li>\n",
      "</ul>\n",
      "</div>\n",
      "</div>\n",
      "</div>\n",
      "<a href=\"https://xkcd.com/353/\" target=\"blank\"><p class=\"grey-text right\" style=\"padding-right:10px\">Programming is a superpower.</p></a>\n",
      "<div class=\"footer-copyright\">\n",
      "<div class=\"container\">\n",
      "            © OVER 9000! PythonProgramming.net\n",
      "\n",
      "            </div>\n",
      "</div>\n",
      "</footer>\n",
      "</html>\n",
      "\n"
     ]
    }
   ],
   "source": [
    "print(soup)"
   ]
  },
  {
   "cell_type": "code",
   "execution_count": 32,
   "metadata": {},
   "outputs": [
    {
     "name": "stdout",
     "output_type": "stream",
     "text": [
      "<title>Python Programming Tutorials</title>\n",
      "Python Programming Tutorials\n"
     ]
    }
   ],
   "source": [
    "print(soup.title)\n",
    "print(soup.title.text)"
   ]
  },
  {
   "cell_type": "code",
   "execution_count": 59,
   "metadata": {},
   "outputs": [
    {
     "name": "stdout",
     "output_type": "stream",
     "text": [
      "<p class=\"introduction\">Oh, hello! This is a <span style=\"font-size:115%\">wonderful</span> page meant to let you practice web scraping. This page was originally created to help people work with the <a href=\"https://www.crummy.com/software/BeautifulSoup/bs4/doc/\" target=\"blank\"><strong>Beautiful Soup 4</strong></a> library.</p>\n"
     ]
    }
   ],
   "source": [
    "print(soup.p)"
   ]
  },
  {
   "cell_type": "markdown",
   "metadata": {},
   "source": [
    "#### Find text in all paragraph"
   ]
  },
  {
   "cell_type": "code",
   "execution_count": 64,
   "metadata": {},
   "outputs": [
    {
     "name": "stdout",
     "output_type": "stream",
     "text": [
      "Oh, hello! This is a wonderful page meant to let you practice web scraping. This page was originally created to help people work with the Beautiful Soup 4 library.\n",
      "The following table gives some general information for the following programming languages:\n",
      "I think it's clear that, on a scale of 1-10, python is:\n",
      "Javascript (dynamic data) test:\n",
      "y u bad tho?\n",
      "Whᶐt hαppéns now¿\n",
      "sitemap\n",
      "\n",
      "Cancel  \n",
      "\t\t\t\t\t\tLogin\n",
      "\n",
      "\n",
      "Cancel  \n",
      "\t\t\t\t\t\t\t\tSign Up\n",
      "\n",
      "Contact: Harrison@pythonprogramming.net.\n",
      "Programming is a superpower.\n"
     ]
    }
   ],
   "source": [
    "#print(soup.find_all('p'))\n",
    "for paragraph in soup.find_all('p'):\n",
    "    #print(paragraph.string)\n",
    "    #print(paragraph)\n",
    "    print(paragraph.text)"
   ]
  },
  {
   "cell_type": "markdown",
   "metadata": {},
   "source": [
    "#### Find all text in entire webpage"
   ]
  },
  {
   "cell_type": "code",
   "execution_count": 178,
   "metadata": {},
   "outputs": [
    {
     "name": "stdout",
     "output_type": "stream",
     "text": [
      "\n",
      "\n",
      "\n",
      "\n",
      "Python Programming Tutorials\n",
      "\n",
      "\n",
      "\n",
      "\n",
      "\n",
      "\n",
      "\n",
      "\n",
      "\n",
      "\n",
      "\n",
      "\t\t@media (min-width:992px) {\n",
      "\t\t#aside {\n",
      "\t\t\twidth:250px;\n",
      "\t\t}\n",
      "\t\tpre { tab-size: 4;}\n",
      "\t\t.btn {background-color:#FFD166;\n",
      "\t\t\t  color:#000;\n",
      "\t\t      height:auto;\n",
      "\t\t\t  font-color:#000;\n",
      "\t\t\t  }\n",
      "\t\t.btn:hover {background-color:#FFD166;\n",
      "\t\t\t\t\t}\n",
      "\n",
      "\n",
      "\t\t\n",
      "\n",
      "\n",
      "\t\t\t  (function(i,s,o,g,r,a,m){i['GoogleAnalyticsObject']=r;i[r]=i[r]||function(){\n",
      "\t\t\t  (i[r].q=i[r].q||[]).push(arguments)},i[r].l=1*new Date();a=s.createElement(o),\n",
      "\t\t\t  m=s.getElementsByTagName(o)[0];a.async=1;a.src=g;m.parentNode.insertBefore(a,m)\n",
      "\t\t\t  })(window,document,'script','//www.google-analytics.com/analytics.js','ga');\n",
      "\n",
      "\t\t\t  ga('create', 'UA-51891827-1', 'auto');\n",
      "\t\t\t  ga('send', 'pageview');\n",
      "\n",
      "\t\t\n",
      "\n",
      "\n",
      "                         (adsbygoogle = window.adsbygoogle || []).push({\n",
      "                              google_ad_client: \"ca-pub-1579050400541873\",\n",
      "                              enable_page_level_ads: true\n",
      "                         });\n",
      "                    \n",
      "\n",
      "\n",
      "\n",
      "\n",
      "\n",
      "\n",
      "\n",
      "\n",
      "search\n",
      "\n",
      "\n",
      "\n",
      "\n",
      "\n",
      "Home\n",
      "+=1\n",
      "\n",
      "Support the Content\n",
      "Community\n",
      "Log in\n",
      "Sign up\n",
      "\n",
      "\n",
      "\n",
      "\n",
      "\n",
      "\n",
      "\n",
      "Home\n",
      "+=1\n",
      "\n",
      "Support the Content\n",
      "Community\n",
      "Log in\n",
      "Sign up\n",
      "\n",
      "\n",
      "\n",
      "\n",
      "\n",
      "\n",
      "\n",
      "\n",
      "\n",
      "\n",
      "Oh, hello! This is a wonderful page meant to let you practice web scraping. This page was originally created to help people work with the Beautiful Soup 4 library.\n",
      "The following table gives some general information for the following programming languages:\n",
      "\n",
      "Python\n",
      "Pascal\n",
      "Lisp\n",
      "D#\n",
      "Cobol\n",
      "Fortran\n",
      "Haskell\n",
      "\n",
      "\n",
      "\n",
      "Program Name\n",
      "Internet Points\n",
      "Kittens?\n",
      "\n",
      "\n",
      "Python\n",
      "932914021\n",
      "Definitely\n",
      "\n",
      "\n",
      "Pascal\n",
      "532\n",
      "Unlikely\n",
      "\n",
      "\n",
      "Lisp\n",
      "1522\n",
      "Uncertain\n",
      "\n",
      "\n",
      "D#\n",
      "12\n",
      "Possibly\n",
      "\n",
      "\n",
      "Cobol\n",
      "3\n",
      "No.\n",
      "\n",
      "\n",
      "Fortran\n",
      "52124\n",
      "Yes.\n",
      "\n",
      "\n",
      "Haskell\n",
      "24\n",
      "lol.\n",
      "\n",
      "\n",
      "I think it's clear that, on a scale of 1-10, python is:\n",
      "\n",
      "\n",
      "\n",
      "\n",
      "\n",
      "\n",
      "Javascript (dynamic data) test:\n",
      "y u bad tho?\n",
      "\n",
      "     document.getElementById('yesnojs').innerHTML = 'Look at you shinin!';\n",
      "  \n",
      "\n",
      "Beautiful is better than ugly.\n",
      "Explicit is better than implicit.\n",
      "Simple is better than complex.\n",
      "Complex is better than complicated.\n",
      "Flat is better than nested.\n",
      "Sparse is better than dense.\n",
      "Readability counts.\n",
      "Special cases aren't special enough to break the rules.\n",
      "Although practicality beats purity.\n",
      "Errors should never pass silently.\n",
      "Unless explicitly silenced.\n",
      "In the face of ambiguity, refuse the temptation to guess.\n",
      "There should be one-- and preferably only one --obvious way to do it.\n",
      "Although that way may not be obvious at first unless you're Dutch.\n",
      "Now is better than never.\n",
      "Although never is often better than *right* now.\n",
      "If the implementation is hard to explain, it's a bad idea.\n",
      "If the implementation is easy to explain, it may be a good idea.\n",
      "Namespaces are one honking great idea -- let's do more of those!\n",
      "Whᶐt hαppéns now¿\n",
      "sitemap\n",
      "\n",
      "\n",
      "\n",
      "\n",
      "Login\n",
      "\n",
      "\n",
      "\n",
      "\n",
      "\n",
      "\n",
      "Username\n",
      "\n",
      "\n",
      "\n",
      "Password\n",
      "\n",
      "\n",
      "\n",
      "\n",
      "\n",
      "Cancel  \n",
      "\t\t\t\t\t\tLogin\n",
      "\n",
      "\n",
      "\n",
      "\n",
      "\n",
      "\n",
      "\n",
      "Sign up\n",
      "\n",
      "\n",
      "\n",
      "\n",
      "\n",
      "Username\n",
      "\n",
      "\n",
      "\n",
      "Password\n",
      "\n",
      "\n",
      "\n",
      "Repeat Password\n",
      "\n",
      "\n",
      "\n",
      "Email\n",
      "\n",
      "\n",
      "\n",
      "Cancel  \n",
      "\t\t\t\t\t\t\t\tSign Up\n",
      "\n",
      "\n",
      "\n",
      "\n",
      "\n",
      "\n",
      "\t\t\t$(document).ready(function(){\n",
      "\t\t\t\t$(\".button-collapse\").sideNav();\n",
      "\t\t\t\t$('.modal-trigger').leanModal();\n",
      "\t\t\t\t$('.collapsible').collapsible({\n",
      "\t\t\t\t  accordion : false // A setting that changes the collapsible behavior to expandable instead of the default accordion style\n",
      "\t\t\t\t});\n",
      "\t\t\t\t$('#aside').pushpin({ top:110, bottom:500 });\n",
      "\t\t  });\n",
      "\t\t\n",
      "\n",
      "\t\t  $(document).ready(function(){\n",
      "\t\t\t$('.collapsible').collapsible({\n",
      "\t\t\t  accordion : false // A setting that changes the collapsible behavior to expandable instead of the default accordion style\n",
      "\t\t\t});\n",
      "\t\t\t$('select').material_select();\n",
      "\t\t  });\n",
      "\t  \n",
      "\n",
      "\t\tfunction goBack() {\n",
      "\t\t\twindow.history.back()\n",
      "\t\t}\n",
      "\t\n",
      "\n",
      "\n",
      "\n",
      "\n",
      "\n",
      "You've reached the end!\n",
      "Contact: Harrison@pythonprogramming.net.\n",
      "\n",
      "Support this Website!\n",
      "Hire me\n",
      "Facebook\n",
      "Twitter\n",
      "Google+\n",
      "\n",
      "\n",
      "\n",
      "Legal stuff:\n",
      "\n",
      "Terms and Conditions\n",
      "Privacy Policy\n",
      "\n",
      "\n",
      "\n",
      "\n",
      "Programming is a superpower.\n",
      "\n",
      "\n",
      "            © OVER 9000! PythonProgramming.net\n",
      "\n",
      "            \n",
      "\n",
      "\n",
      "\n",
      "\n"
     ]
    }
   ],
   "source": [
    "print(soup.get_text()) # find all the text"
   ]
  },
  {
   "cell_type": "markdown",
   "metadata": {},
   "source": [
    "#### Find entire URL"
   ]
  },
  {
   "cell_type": "code",
   "execution_count": 72,
   "metadata": {},
   "outputs": [
    {
     "name": "stdout",
     "output_type": "stream",
     "text": [
      "/\n",
      "#\n",
      "/\n",
      "/+=1/\n",
      "/support/\n",
      "https://goo.gl/7zgAVQ\n",
      "/login/\n",
      "/register/\n",
      "/\n",
      "/+=1/\n",
      "/support/\n",
      "https://goo.gl/7zgAVQ\n",
      "/login/\n",
      "/register/\n",
      "https://www.crummy.com/software/BeautifulSoup/bs4/doc/\n",
      "/sitemap.xml\n",
      "#\n",
      "#\n",
      "#\n",
      "/support-donate/\n",
      "/consulting/\n",
      "https://www.facebook.com/pythonprogramming.net/\n",
      "https://twitter.com/sentdex\n",
      "https://plus.google.com/+sentdex\n",
      "/about/tos/\n",
      "/about/privacy-policy/\n",
      "https://xkcd.com/353/\n"
     ]
    }
   ],
   "source": [
    "for url in soup.find_all('a'):\n",
    "    print(url.get('href'))"
   ]
  },
  {
   "cell_type": "markdown",
   "metadata": {},
   "source": [
    "#### Find navigation"
   ]
  },
  {
   "cell_type": "code",
   "execution_count": 75,
   "metadata": {},
   "outputs": [
    {
     "name": "stdout",
     "output_type": "stream",
     "text": [
      "/\n",
      "#\n",
      "/\n",
      "/+=1/\n",
      "/support/\n",
      "https://goo.gl/7zgAVQ\n",
      "/login/\n",
      "/register/\n",
      "/\n",
      "/+=1/\n",
      "/support/\n",
      "https://goo.gl/7zgAVQ\n",
      "/login/\n",
      "/register/\n"
     ]
    }
   ],
   "source": [
    "nav = soup.nav\n",
    "for url in nav.find_all('a'):\n",
    "    print(url.get('href'))"
   ]
  },
  {
   "cell_type": "markdown",
   "metadata": {},
   "source": [
    "#### Find body text"
   ]
  },
  {
   "cell_type": "code",
   "execution_count": 165,
   "metadata": {},
   "outputs": [
    {
     "name": "stdout",
     "output_type": "stream",
     "text": [
      "\n",
      "\n",
      "Home\n",
      "+=1\n",
      "Support the Content\n",
      "Community\n",
      "Log in\n",
      "Sign up\n",
      "Home\n",
      "+=1\n",
      "Support the Content\n",
      "Community\n",
      "Log in\n",
      "Sign up\n",
      "Beautiful Soup 4\n",
      "sitemap\n",
      "######################################\n",
      "\n",
      "Oh, hello! This is a wonderful page meant to let you practice web scraping. This page was originally created to help people work with the Beautiful Soup 4 library.\n",
      "The following table gives some general information for the following programming languages:\n",
      "\n",
      "Python\n",
      "Pascal\n",
      "Lisp\n",
      "D#\n",
      "Cobol\n",
      "Fortran\n",
      "Haskell\n",
      "\n",
      "\n",
      "\n",
      "Program Name\n",
      "Internet Points\n",
      "Kittens?\n",
      "\n",
      "\n",
      "Python\n",
      "932914021\n",
      "Definitely\n",
      "\n",
      "\n",
      "Pascal\n",
      "532\n",
      "Unlikely\n",
      "\n",
      "\n",
      "Lisp\n",
      "1522\n",
      "Uncertain\n",
      "\n",
      "\n",
      "D#\n",
      "12\n",
      "Possibly\n",
      "\n",
      "\n",
      "Cobol\n",
      "3\n",
      "No.\n",
      "\n",
      "\n",
      "Fortran\n",
      "52124\n",
      "Yes.\n",
      "\n",
      "\n",
      "Haskell\n",
      "24\n",
      "lol.\n",
      "\n",
      "\n",
      "I think it's clear that, on a scale of 1-10, python is:\n",
      "\n",
      "\n",
      "\n",
      "\n",
      "\n",
      "\n",
      "Javascript (dynamic data) test:\n",
      "y u bad tho?\n",
      "\n",
      "     document.getElementById('yesnojs').innerHTML = 'Look at you shinin!';\n",
      "  \n",
      "\n",
      "Beautiful is better than ugly.\n",
      "Explicit is better than implicit.\n",
      "Simple is better than complex.\n",
      "Complex is better than complicated.\n",
      "Flat is better than nested.\n",
      "Sparse is better than dense.\n",
      "Readability counts.\n",
      "Special cases aren't special enough to break the rules.\n",
      "Although practicality beats purity.\n",
      "Errors should never pass silently.\n",
      "Unless explicitly silenced.\n",
      "In the face of ambiguity, refuse the temptation to guess.\n",
      "There should be one-- and preferably only one --obvious way to do it.\n",
      "Although that way may not be obvious at first unless you're Dutch.\n",
      "Now is better than never.\n",
      "Although never is often better than *right* now.\n",
      "If the implementation is hard to explain, it's a bad idea.\n",
      "If the implementation is easy to explain, it may be a good idea.\n",
      "Namespaces are one honking great idea -- let's do more of those!\n",
      "Whᶐt hαppéns now¿\n",
      "sitemap\n",
      "\n"
     ]
    }
   ],
   "source": [
    "body = soup.body\n",
    "for p in body.find_all('a'):\n",
    "    print(p.text)\n",
    "print('######################################')\n",
    "for div in soup.find_all('div', class_= 'body'):\n",
    "    print(div.text)"
   ]
  },
  {
   "cell_type": "markdown",
   "metadata": {},
   "source": [
    "#### Find Table"
   ]
  },
  {
   "cell_type": "code",
   "execution_count": 203,
   "metadata": {},
   "outputs": [
    {
     "name": "stdout",
     "output_type": "stream",
     "text": [
      "['', 'Program Name', 'Internet Points', 'Kittens?', '']\n",
      "['', 'Python', '932914021', 'Definitely', '']\n",
      "['', 'Pascal', '532', 'Unlikely', '']\n",
      "['', 'Lisp', '1522', 'Uncertain', '']\n",
      "['', 'D#', '12', 'Possibly', '']\n",
      "['', 'Cobol', '3', 'No.', '']\n",
      "['', 'Fortran', '52124', 'Yes.', '']\n",
      "['', 'Haskell', '24', 'lol.', '']\n"
     ]
    },
    {
     "data": {
      "text/html": [
       "<div>\n",
       "<style scoped>\n",
       "    .dataframe tbody tr th:only-of-type {\n",
       "        vertical-align: middle;\n",
       "    }\n",
       "\n",
       "    .dataframe tbody tr th {\n",
       "        vertical-align: top;\n",
       "    }\n",
       "\n",
       "    .dataframe thead th {\n",
       "        text-align: right;\n",
       "    }\n",
       "</style>\n",
       "<table border=\"1\" class=\"dataframe\">\n",
       "  <thead>\n",
       "    <tr style=\"text-align: right;\">\n",
       "      <th></th>\n",
       "      <th>0</th>\n",
       "      <th>1</th>\n",
       "      <th>2</th>\n",
       "    </tr>\n",
       "  </thead>\n",
       "  <tbody>\n",
       "    <tr>\n",
       "      <th>\\nProgram Name\\nInternet Points\\nKittens?\\n</th>\n",
       "      <td>NaN</td>\n",
       "      <td>NaN</td>\n",
       "      <td>NaN</td>\n",
       "    </tr>\n",
       "    <tr>\n",
       "      <th>\\nPython\\n932914021\\nDefinitely\\n</th>\n",
       "      <td>Python</td>\n",
       "      <td>932914021</td>\n",
       "      <td>Definitely</td>\n",
       "    </tr>\n",
       "    <tr>\n",
       "      <th>\\nPascal\\n532\\nUnlikely\\n</th>\n",
       "      <td>Pascal</td>\n",
       "      <td>532</td>\n",
       "      <td>Unlikely</td>\n",
       "    </tr>\n",
       "    <tr>\n",
       "      <th>\\nLisp\\n1522\\nUncertain\\n</th>\n",
       "      <td>Lisp</td>\n",
       "      <td>1522</td>\n",
       "      <td>Uncertain</td>\n",
       "    </tr>\n",
       "    <tr>\n",
       "      <th>\\nD#\\n12\\nPossibly\\n</th>\n",
       "      <td>D#</td>\n",
       "      <td>12</td>\n",
       "      <td>Possibly</td>\n",
       "    </tr>\n",
       "    <tr>\n",
       "      <th>\\nCobol\\n3\\nNo.\\n</th>\n",
       "      <td>Cobol</td>\n",
       "      <td>3</td>\n",
       "      <td>No.</td>\n",
       "    </tr>\n",
       "    <tr>\n",
       "      <th>\\nFortran\\n52124\\nYes.\\n</th>\n",
       "      <td>Fortran</td>\n",
       "      <td>52124</td>\n",
       "      <td>Yes.</td>\n",
       "    </tr>\n",
       "    <tr>\n",
       "      <th>\\nHaskell\\n24\\nlol.\\n</th>\n",
       "      <td>Haskell</td>\n",
       "      <td>24</td>\n",
       "      <td>lol.</td>\n",
       "    </tr>\n",
       "  </tbody>\n",
       "</table>\n",
       "</div>"
      ],
      "text/plain": [
       "                                                   0          1           2\n",
       "\\nProgram Name\\nInternet Points\\nKittens?\\n      NaN        NaN         NaN\n",
       "\\nPython\\n932914021\\nDefinitely\\n             Python  932914021  Definitely\n",
       "\\nPascal\\n532\\nUnlikely\\n                     Pascal        532    Unlikely\n",
       "\\nLisp\\n1522\\nUncertain\\n                       Lisp       1522   Uncertain\n",
       "\\nD#\\n12\\nPossibly\\n                              D#         12    Possibly\n",
       "\\nCobol\\n3\\nNo.\\n                              Cobol          3         No.\n",
       "\\nFortran\\n52124\\nYes.\\n                     Fortran      52124        Yes.\n",
       "\\nHaskell\\n24\\nlol.\\n                        Haskell         24        lol."
      ]
     },
     "execution_count": 203,
     "metadata": {},
     "output_type": "execute_result"
    }
   ],
   "source": [
    "import pandas as pd\n",
    "table = soup.table\n",
    "table_rows = table.find_all('tr')\n",
    "df_table = pd.DataFrame()\n",
    "for tr in table_rows:\n",
    "    print(tr.text.split('\\n'))\n",
    "    td = tr.find_all('td')\n",
    "    df_table[tr.text] = [i.text for i in td]\n",
    "df_table.T"
   ]
  },
  {
   "cell_type": "code",
   "execution_count": 204,
   "metadata": {},
   "outputs": [
    {
     "name": "stdout",
     "output_type": "stream",
     "text": [
      "              0                1           2\n",
      "0  Program Name  Internet Points    Kittens?\n",
      "1        Python        932914021  Definitely\n",
      "2        Pascal              532    Unlikely\n",
      "3          Lisp             1522   Uncertain\n",
      "4            D#               12    Possibly\n",
      "5         Cobol                3         No.\n",
      "6       Fortran            52124        Yes.\n",
      "7       Haskell               24        lol.\n"
     ]
    }
   ],
   "source": [
    "dfs = pd.read_html('https://pythonprogramming.net/parsememcparseface/')\n",
    "\n",
    "for df in dfs:\n",
    "    print(df)"
   ]
  },
  {
   "cell_type": "markdown",
   "metadata": {},
   "source": [
    "# Part VI: Beautifulsoup for Facebook"
   ]
  },
  {
   "cell_type": "code",
   "execution_count": 315,
   "metadata": {},
   "outputs": [],
   "source": [
    "import bs4 as bs\n",
    "import urllib.request as req\n",
    "import pickle\n",
    "\n",
    "url_prefix = 'https://www.facebook.com'"
   ]
  },
  {
   "cell_type": "code",
   "execution_count": 316,
   "metadata": {},
   "outputs": [],
   "source": [
    "# Crawl and Save\n",
    "def save_soup(link, soup_name):\n",
    "    sauce = req.urlopen(link).read()\n",
    "    soup = bs.BeautifulSoup(sauce, 'lxml')\n",
    "    outFile = open(soup_name, 'wb')\n",
    "    pickle.dump(soup, outFile)\n",
    "    outFile.close()\n",
    "\n",
    "# open a soup\n",
    "def open_soup(soup_name):\n",
    "    inFile = open(soup_name, 'rb')\n",
    "    soup = pickle.load(inFile)\n",
    "    inFile.close()\n",
    "    return soup"
   ]
  },
  {
   "cell_type": "markdown",
   "metadata": {},
   "source": [
    "### DBS"
   ]
  },
  {
   "cell_type": "code",
   "execution_count": 317,
   "metadata": {},
   "outputs": [
    {
     "data": {
      "text/plain": [
       "'https://www.facebook.com/dbs.sg/'"
      ]
     },
     "execution_count": 317,
     "metadata": {},
     "output_type": "execute_result"
    }
   ],
   "source": [
    "# dbs homepage soup\n",
    "dbs_homepage_link = url_prefix + '/'+'dbs.sg'+'/'\n",
    "dbs_homepage_link"
   ]
  },
  {
   "cell_type": "code",
   "execution_count": 312,
   "metadata": {},
   "outputs": [],
   "source": [
    "# save dbs homepage soup to pickle\n",
    "import sys\n",
    "sys.setrecursionlimit(10000)\n",
    "save_soup(dbs_homepage_link, 'dbs_homepage_soup')"
   ]
  },
  {
   "cell_type": "code",
   "execution_count": 319,
   "metadata": {},
   "outputs": [],
   "source": [
    "dbs_homepage_soup = open_soup('dbs_homepage_soup')"
   ]
  },
  {
   "cell_type": "code",
   "execution_count": 325,
   "metadata": {},
   "outputs": [
    {
     "data": {
      "text/plain": [
       "'https://www.facebook.com/dbs.sg/about/?ref=page_internal'"
      ]
     },
     "execution_count": 325,
     "metadata": {},
     "output_type": "execute_result"
    }
   ],
   "source": [
    "dbs_homepage_div = dbs_homepage_soup.div\n",
    "\n",
    "for url in dbs_homepage_div.find_all('a'):\n",
    "    if url.get_text() == 'About':\n",
    "        break\n",
    "dbs_About_link = url_prefix + url.get('href')\n",
    "dbs_About_link"
   ]
  },
  {
   "cell_type": "code",
   "execution_count": 326,
   "metadata": {},
   "outputs": [],
   "source": [
    "# save dbs homepage About to pickle\n",
    "#import sys\n",
    "#sys.setrecursionlimit(10000)\n",
    "save_soup(dbs_About_link, 'dbs_About_soup')"
   ]
  },
  {
   "cell_type": "code",
   "execution_count": 333,
   "metadata": {},
   "outputs": [],
   "source": [
    "dbs_About_soup = open_soup('dbs_About_soup')"
   ]
  },
  {
   "cell_type": "code",
   "execution_count": 353,
   "metadata": {},
   "outputs": [
    {
     "data": {
      "text/html": [
       "<div>\n",
       "<style scoped>\n",
       "    .dataframe tbody tr th:only-of-type {\n",
       "        vertical-align: middle;\n",
       "    }\n",
       "\n",
       "    .dataframe tbody tr th {\n",
       "        vertical-align: top;\n",
       "    }\n",
       "\n",
       "    .dataframe thead th {\n",
       "        text-align: right;\n",
       "    }\n",
       "</style>\n",
       "<table border=\"1\" class=\"dataframe\">\n",
       "  <thead>\n",
       "    <tr style=\"text-align: right;\">\n",
       "      <th></th>\n",
       "      <th>About</th>\n",
       "    </tr>\n",
       "  </thead>\n",
       "  <tbody>\n",
       "    <tr>\n",
       "      <th>0</th>\n",
       "      <td>DBS creates banking that’s fast, natural, effo...</td>\n",
       "    </tr>\n",
       "    <tr>\n",
       "      <th>1</th>\n",
       "      <td>We're here 24/7. Otherwise, call us at:  18001...</td>\n",
       "    </tr>\n",
       "  </tbody>\n",
       "</table>\n",
       "</div>"
      ],
      "text/plain": [
       "                                               About\n",
       "0  DBS creates banking that’s fast, natural, effo...\n",
       "1  We're here 24/7. Otherwise, call us at:  18001..."
      ]
     },
     "execution_count": 353,
     "metadata": {},
     "output_type": "execute_result"
    }
   ],
   "source": [
    "df_dbs = pd.DataFrame()\n",
    "dbs_About_block = dbs_About_soup.findAll('div', {'id':'content_container'})[0]\n",
    "df_dbs['About'] = dbs_About_block.findAll('div', {'class':'_3-8w'})\n",
    "df_dbs['About'] = df_dbs['About'].apply(lambda x: x.text)\n",
    "df_dbs"
   ]
  },
  {
   "cell_type": "code",
   "execution_count": 354,
   "metadata": {},
   "outputs": [
    {
     "data": {
      "text/plain": [
       "\"We're here 24/7. Otherwise, call us at:  18001111111(Singapore) +65 6327 2265 (Overseas) or contact us via http://www.dbs.com/contact\""
      ]
     },
     "execution_count": 354,
     "metadata": {},
     "output_type": "execute_result"
    }
   ],
   "source": [
    "df_dbs.loc[1, 'About']"
   ]
  },
  {
   "cell_type": "markdown",
   "metadata": {},
   "source": [
    "### OCBC"
   ]
  },
  {
   "cell_type": "code",
   "execution_count": 377,
   "metadata": {},
   "outputs": [
    {
     "data": {
      "text/plain": [
       "'https://www.facebook.com/OCBC.Singapore/'"
      ]
     },
     "execution_count": 377,
     "metadata": {},
     "output_type": "execute_result"
    }
   ],
   "source": [
    "# dbs homepage soup\n",
    "ocbc_homepage_link = url_prefix + '/'+'OCBC.Singapore'+'/'\n",
    "ocbc_homepage_link"
   ]
  },
  {
   "cell_type": "code",
   "execution_count": 378,
   "metadata": {},
   "outputs": [],
   "source": [
    "# save dbs homepage soup to pickle\n",
    "import sys\n",
    "sys.setrecursionlimit(10000)\n",
    "save_soup(ocbc_homepage_link, 'ocbc_homepage_soup')"
   ]
  },
  {
   "cell_type": "code",
   "execution_count": 379,
   "metadata": {},
   "outputs": [],
   "source": [
    "ocbc_homepage_soup = open_soup('ocbc_homepage_soup')"
   ]
  },
  {
   "cell_type": "markdown",
   "metadata": {},
   "source": [
    "#### OCBC - About"
   ]
  },
  {
   "cell_type": "code",
   "execution_count": 380,
   "metadata": {},
   "outputs": [
    {
     "data": {
      "text/plain": [
       "'https://www.facebook.com/OCBC.Singapore/about/?ref=page_internal'"
      ]
     },
     "execution_count": 380,
     "metadata": {},
     "output_type": "execute_result"
    }
   ],
   "source": [
    "ocbc_homepage_div = ocbc_homepage_soup.div\n",
    "\n",
    "for url in ocbc_homepage_div.find_all('a'):\n",
    "    if url.get_text() == 'About':\n",
    "        break\n",
    "ocbc_About_link = url_prefix + url.get('href')\n",
    "ocbc_About_link"
   ]
  },
  {
   "cell_type": "code",
   "execution_count": 381,
   "metadata": {},
   "outputs": [],
   "source": [
    "# save ocbc About to pickle\n",
    "#import sys\n",
    "#sys.setrecursionlimit(10000)\n",
    "save_soup(ocbc_About_link, 'ocbc_About_soup')"
   ]
  },
  {
   "cell_type": "code",
   "execution_count": 382,
   "metadata": {},
   "outputs": [
    {
     "data": {
      "text/html": [
       "<div>\n",
       "<style scoped>\n",
       "    .dataframe tbody tr th:only-of-type {\n",
       "        vertical-align: middle;\n",
       "    }\n",
       "\n",
       "    .dataframe tbody tr th {\n",
       "        vertical-align: top;\n",
       "    }\n",
       "\n",
       "    .dataframe thead th {\n",
       "        text-align: right;\n",
       "    }\n",
       "</style>\n",
       "<table border=\"1\" class=\"dataframe\">\n",
       "  <thead>\n",
       "    <tr style=\"text-align: right;\">\n",
       "      <th></th>\n",
       "      <th>About</th>\n",
       "    </tr>\n",
       "  </thead>\n",
       "  <tbody>\n",
       "    <tr>\n",
       "      <th>0</th>\n",
       "      <td>This is where you’ll find our latest news and ...</td>\n",
       "    </tr>\n",
       "    <tr>\n",
       "      <th>1</th>\n",
       "      <td>World's Strongest Bank: Bloomberg Markets maga...</td>\n",
       "    </tr>\n",
       "  </tbody>\n",
       "</table>\n",
       "</div>"
      ],
      "text/plain": [
       "                                               About\n",
       "0  This is where you’ll find our latest news and ...\n",
       "1  World's Strongest Bank: Bloomberg Markets maga..."
      ]
     },
     "execution_count": 382,
     "metadata": {},
     "output_type": "execute_result"
    }
   ],
   "source": [
    "ocbc_About_soup = open_soup('ocbc_About_soup')\n",
    "\n",
    "df_ocbc = pd.DataFrame()\n",
    "ocbc_About_block = ocbc_About_soup.findAll('div', {'id':'content_container'})[0]\n",
    "df_ocbc['About'] = ocbc_About_block.findAll('div', {'class':'_3-8w'})\n",
    "df_ocbc['About'] = df_ocbc['About'].apply(lambda x: x.text)\n",
    "df_ocbc"
   ]
  },
  {
   "cell_type": "code",
   "execution_count": 383,
   "metadata": {},
   "outputs": [
    {
     "data": {
      "text/plain": [
       "\"World's Strongest Bank: Bloomberg Markets magazine 2012 Among the World's 50 Safest Banks: Global Finance 2012 Most Transparent Company - Finance Category (Runn...er-up): SIAS Investors' Choice Awards 2011 Among the World’s 50 Safest Banks: Global Finance 2011 Best Domestic Bank in Singapore: Asiamoney Best Banks Awards 2011 See more\""
      ]
     },
     "execution_count": 383,
     "metadata": {},
     "output_type": "execute_result"
    }
   ],
   "source": [
    "df_ocbc.loc[1, 'About']"
   ]
  },
  {
   "cell_type": "markdown",
   "metadata": {},
   "source": [
    "#### OCBC - Post"
   ]
  },
  {
   "cell_type": "code",
   "execution_count": 384,
   "metadata": {},
   "outputs": [
    {
     "data": {
      "text/plain": [
       "'https://www.facebook.com/OCBC.Singapore/posts/?ref=page_internal'"
      ]
     },
     "execution_count": 384,
     "metadata": {},
     "output_type": "execute_result"
    }
   ],
   "source": [
    "import bs4 as bs\n",
    "import urllib.request as req\n",
    "import pickle\n",
    "\n",
    "url_prefix = 'https://www.facebook.com'\n",
    "\n",
    "ID = 'OCBC.Singapore'\n",
    "ocbc_Posts_link = url_prefix + '/'+ID+'/'+ 'posts'+'/?ref=page_internal'\n",
    "ocbc_Posts_link"
   ]
  },
  {
   "cell_type": "code",
   "execution_count": 386,
   "metadata": {},
   "outputs": [],
   "source": [
    "# save OCBC posts to pickle\n",
    "import sys\n",
    "sys.setrecursionlimit(100000)\n",
    "save_soup(ocbc_Posts_link, 'ocbc_Posts_soup')"
   ]
  },
  {
   "cell_type": "code",
   "execution_count": null,
   "metadata": {},
   "outputs": [],
   "source": []
  },
  {
   "cell_type": "code",
   "execution_count": null,
   "metadata": {},
   "outputs": [],
   "source": []
  },
  {
   "cell_type": "code",
   "execution_count": null,
   "metadata": {},
   "outputs": [],
   "source": []
  },
  {
   "cell_type": "code",
   "execution_count": null,
   "metadata": {},
   "outputs": [],
   "source": []
  },
  {
   "cell_type": "code",
   "execution_count": null,
   "metadata": {},
   "outputs": [],
   "source": []
  },
  {
   "cell_type": "code",
   "execution_count": null,
   "metadata": {},
   "outputs": [],
   "source": []
  },
  {
   "cell_type": "code",
   "execution_count": null,
   "metadata": {},
   "outputs": [],
   "source": []
  },
  {
   "cell_type": "code",
   "execution_count": null,
   "metadata": {},
   "outputs": [],
   "source": []
  },
  {
   "cell_type": "code",
   "execution_count": null,
   "metadata": {},
   "outputs": [],
   "source": []
  },
  {
   "cell_type": "code",
   "execution_count": null,
   "metadata": {},
   "outputs": [],
   "source": []
  },
  {
   "cell_type": "code",
   "execution_count": null,
   "metadata": {},
   "outputs": [],
   "source": []
  },
  {
   "cell_type": "code",
   "execution_count": null,
   "metadata": {},
   "outputs": [],
   "source": []
  },
  {
   "cell_type": "code",
   "execution_count": null,
   "metadata": {},
   "outputs": [],
   "source": []
  },
  {
   "cell_type": "code",
   "execution_count": null,
   "metadata": {},
   "outputs": [],
   "source": []
  },
  {
   "cell_type": "code",
   "execution_count": null,
   "metadata": {},
   "outputs": [],
   "source": []
  },
  {
   "cell_type": "code",
   "execution_count": null,
   "metadata": {},
   "outputs": [],
   "source": []
  },
  {
   "cell_type": "code",
   "execution_count": null,
   "metadata": {},
   "outputs": [],
   "source": []
  },
  {
   "cell_type": "code",
   "execution_count": null,
   "metadata": {},
   "outputs": [],
   "source": []
  },
  {
   "cell_type": "markdown",
   "metadata": {},
   "source": [
    "#### Save Method 1: Using file"
   ]
  },
  {
   "cell_type": "code",
   "execution_count": 266,
   "metadata": {},
   "outputs": [
    {
     "data": {
      "text/plain": [
       "'\\nfrom bs4 import BeautifulSoup\\nimport requests\\n\\nurl = \\'https://google.com\\'\\nname = requests.get(url)\\n\\nwith open(\"/tmp/A.html\", \"w\") as f:\\n  f.write(name.content)\\n\\n\\n# read it back in\\nwith open(\"/tmp/A.html\") as f:\\n  soup = BeautifulSoup(f)\\n  # do something with soup\\n'"
      ]
     },
     "execution_count": 266,
     "metadata": {},
     "output_type": "execute_result"
    }
   ],
   "source": [
    "'''\n",
    "from bs4 import BeautifulSoup\n",
    "import requests\n",
    "\n",
    "url = 'https://google.com'\n",
    "name = requests.get(url)\n",
    "\n",
    "with open(\"/tmp/A.html\", \"w\") as f:\n",
    "  f.write(name.content)\n",
    "\n",
    "\n",
    "# read it back in\n",
    "with open(\"/tmp/A.html\") as f:\n",
    "  soup = BeautifulSoup(f)\n",
    "  # do something with soup\n",
    "'''"
   ]
  },
  {
   "cell_type": "markdown",
   "metadata": {},
   "source": [
    "#### Save Method 2: Using pickle"
   ]
  },
  {
   "cell_type": "code",
   "execution_count": 351,
   "metadata": {},
   "outputs": [
    {
     "data": {
      "text/plain": [
       "\"\\nimport pickle\\nimport sys\\nsys.setrecursionlimit(10000)\\n\\noutFile = open('dbs_homepage_soup.txt', 'wb')\\npickle.dump(dbs_homepage_soup, outFile)\\noutFile.close()\\n\\noutFile = open('ocbc_homepage_soup.txt', 'wb')\\npickle.dump(dbs_homepage_soup, outFile)\\noutFile.close()\\n\\ninFile = open('dbs_homepage_soup.txt', 'rb')\\ndbs_homepage_soup_pickle = pickle.load(inFile)\\ninFile.close()\\n\\ninFile = open('ocbc_homepage_soup.txt', 'rb')\\nocbc_homepage_soup_pickle = pickle.load(inFile)\\ninFile.close()\\n\\ndbs_homepage_div = dbs_homepage_soup_pickle.div\\nocbc_homepage_div = ocbc_homepage_soup_pickle.div\\n\\nurl_prefix_home = 'https://www.facebook.com/pg'\\ndbs_About = url_prefix_home + find_div_href(dbs_homepage_div, 'About')\\nocbc_About = url_prefix_home + find_div_href(ocbc_homepage_div, 'About')\\n\\nprint(dbs_About)\\nprint(ocbc_About)\\n\""
      ]
     },
     "execution_count": 351,
     "metadata": {},
     "output_type": "execute_result"
    }
   ],
   "source": [
    "'''\n",
    "import pickle\n",
    "import sys\n",
    "sys.setrecursionlimit(10000)\n",
    "\n",
    "outFile = open('dbs_homepage_soup.txt', 'wb')\n",
    "pickle.dump(dbs_homepage_soup, outFile)\n",
    "outFile.close()\n",
    "\n",
    "outFile = open('ocbc_homepage_soup.txt', 'wb')\n",
    "pickle.dump(dbs_homepage_soup, outFile)\n",
    "outFile.close()\n",
    "\n",
    "inFile = open('dbs_homepage_soup.txt', 'rb')\n",
    "dbs_homepage_soup_pickle = pickle.load(inFile)\n",
    "inFile.close()\n",
    "\n",
    "inFile = open('ocbc_homepage_soup.txt', 'rb')\n",
    "ocbc_homepage_soup_pickle = pickle.load(inFile)\n",
    "inFile.close()\n",
    "\n",
    "dbs_homepage_div = dbs_homepage_soup_pickle.div\n",
    "ocbc_homepage_div = ocbc_homepage_soup_pickle.div\n",
    "\n",
    "url_prefix_home = 'https://www.facebook.com/pg'\n",
    "dbs_About = url_prefix_home + find_div_href(dbs_homepage_div, 'About')\n",
    "ocbc_About = url_prefix_home + find_div_href(ocbc_homepage_div, 'About')\n",
    "\n",
    "print(dbs_About)\n",
    "print(ocbc_About)\n",
    "'''"
   ]
  },
  {
   "cell_type": "code",
   "execution_count": 40,
   "metadata": {},
   "outputs": [],
   "source": [
    "ENGLISH_STOP_WORDS = frozenset([\n",
    "    \"a\", \"about\", \"above\", \"across\", \"after\", \"afterwards\", \"again\", \"against\",\n",
    "    \"all\", \"almost\", \"alone\", \"along\", \"already\", \"also\", \"although\", \"always\",\n",
    "    \"am\", \"among\", \"amongst\", \"amoungst\", \"amount\", \"an\", \"and\", \"another\",\n",
    "    \"any\", \"anyhow\", \"anyone\", \"anything\", \"anyway\", \"anywhere\", \"are\",\n",
    "    \"around\", \"as\", \"at\", \"back\", \"be\", \"became\", \"because\", \"become\",\n",
    "    \"becomes\", \"becoming\", \"been\", \"before\", \"beforehand\", \"behind\", \"being\",\n",
    "    \"below\", \"beside\", \"besides\", \"between\", \"beyond\", \"bill\", \"both\",\n",
    "    \"bottom\", \"but\", \"by\", \"call\", \"can\", \"cannot\", \"cant\", \"co\", \"con\",\n",
    "    \"could\", \"couldnt\", \"cry\", \"de\", \"describe\", \"detail\", \"do\", \"done\",\n",
    "    \"down\", \"due\", \"during\", \"each\", \"eg\", \"eight\", \"either\", \"eleven\", \"else\",\n",
    "    \"elsewhere\", \"empty\", \"enough\", \"etc\", \"even\", \"ever\", \"every\", \"everyone\",\n",
    "    \"everything\", \"everywhere\", \"except\", \"few\", \"fifteen\", \"fifty\", \"fill\",\n",
    "    \"find\", \"fire\", \"first\", \"five\", \"for\", \"former\", \"formerly\", \"forty\",\n",
    "    \"found\", \"four\", \"from\", \"front\", \"full\", \"further\", \"get\", \"give\", \"go\",\n",
    "    \"had\", \"has\", \"hasnt\", \"have\", \"he\", \"hence\", \"her\", \"here\", \"hereafter\",\n",
    "    \"hereby\", \"herein\", \"hereupon\", \"hers\", \"herself\", \"him\", \"himself\", \"his\",\n",
    "    \"how\", \"however\", \"hundred\", \"i\", \"ie\", \"if\", \"in\", \"inc\", \"indeed\",\n",
    "    \"interest\", \"into\", \"is\", \"it\", \"its\", \"itself\", \"keep\", \"last\", \"latter\",\n",
    "    \"latterly\", \"least\", \"less\", \"ltd\", \"made\", \"many\", \"may\", \"me\",\n",
    "    \"meanwhile\", \"might\", \"mill\", \"mine\", \"more\", \"moreover\", \"most\", \"mostly\",\n",
    "    \"move\", \"much\", \"must\", \"my\", \"myself\", \"name\", \"namely\", \"neither\",\n",
    "    \"never\", \"nevertheless\", \"next\", \"nine\", \"no\", \"nobody\", \"none\", \"noone\",\n",
    "    \"nor\", \"not\", \"nothing\", \"now\", \"nowhere\", \"of\", \"off\", \"often\", \"on\",\n",
    "    \"once\", \"one\", \"only\", \"onto\", \"or\", \"other\", \"others\", \"otherwise\", \"our\",\n",
    "    \"ours\", \"ourselves\", \"out\", \"over\", \"own\", \"part\", \"per\", \"perhaps\",\n",
    "    \"please\", \"put\", \"rather\", \"re\", \"same\", \"see\", \"seem\", \"seemed\",\n",
    "    \"seeming\", \"seems\", \"serious\", \"several\", \"she\", \"should\", \"show\", \"side\",\n",
    "    \"since\", \"sincere\", \"six\", \"sixty\", \"so\", \"some\", \"somehow\", \"someone\",\n",
    "    \"something\", \"sometime\", \"sometimes\", \"somewhere\", \"still\", \"such\",\n",
    "    \"system\", \"take\", \"ten\", \"than\", \"that\", \"the\", \"their\", \"them\",\n",
    "    \"themselves\", \"then\", \"thence\", \"there\", \"thereafter\", \"thereby\",\n",
    "    \"therefore\", \"therein\", \"thereupon\", \"these\", \"they\", \"thick\", \"thin\",\n",
    "    \"third\", \"this\", \"those\", \"though\", \"three\", \"through\", \"throughout\",\n",
    "    \"thru\", \"thus\", \"to\", \"together\", \"too\", \"top\", \"toward\", \"towards\",\n",
    "    \"twelve\", \"twenty\", \"two\", \"un\", \"under\", \"until\", \"up\", \"upon\", \"us\",\n",
    "    \"very\", \"via\", \"was\", \"we\", \"well\", \"were\", \"what\", \"whatever\", \"when\",\n",
    "    \"whence\", \"whenever\", \"where\", \"whereafter\", \"whereas\", \"whereby\",\n",
    "    \"wherein\", \"whereupon\", \"wherever\", \"whether\", \"which\", \"while\", \"whither\",\n",
    "    \"who\", \"whoever\", \"whole\", \"whom\", \"whose\", \"why\", \"will\", \"with\",\n",
    "    \"within\", \"without\", \"would\", \"yet\", \"you\", \"your\", \"yours\", \"yourself\",\n",
    "    \"yourselves\"])"
   ]
  },
  {
   "cell_type": "code",
   "execution_count": 275,
   "metadata": {},
   "outputs": [],
   "source": []
  },
  {
   "cell_type": "code",
   "execution_count": 277,
   "metadata": {},
   "outputs": [],
   "source": []
  },
  {
   "cell_type": "code",
   "execution_count": null,
   "metadata": {},
   "outputs": [],
   "source": []
  },
  {
   "cell_type": "code",
   "execution_count": null,
   "metadata": {},
   "outputs": [],
   "source": []
  },
  {
   "cell_type": "code",
   "execution_count": null,
   "metadata": {},
   "outputs": [],
   "source": []
  },
  {
   "cell_type": "code",
   "execution_count": null,
   "metadata": {},
   "outputs": [],
   "source": []
  },
  {
   "cell_type": "code",
   "execution_count": null,
   "metadata": {},
   "outputs": [],
   "source": []
  },
  {
   "cell_type": "code",
   "execution_count": null,
   "metadata": {},
   "outputs": [],
   "source": []
  },
  {
   "cell_type": "code",
   "execution_count": null,
   "metadata": {},
   "outputs": [],
   "source": []
  },
  {
   "cell_type": "code",
   "execution_count": null,
   "metadata": {},
   "outputs": [],
   "source": []
  },
  {
   "cell_type": "code",
   "execution_count": 147,
   "metadata": {},
   "outputs": [],
   "source": []
  },
  {
   "cell_type": "code",
   "execution_count": 152,
   "metadata": {},
   "outputs": [],
   "source": []
  },
  {
   "cell_type": "code",
   "execution_count": null,
   "metadata": {},
   "outputs": [],
   "source": []
  },
  {
   "cell_type": "code",
   "execution_count": null,
   "metadata": {},
   "outputs": [],
   "source": []
  },
  {
   "cell_type": "code",
   "execution_count": null,
   "metadata": {},
   "outputs": [],
   "source": []
  },
  {
   "cell_type": "code",
   "execution_count": null,
   "metadata": {},
   "outputs": [],
   "source": []
  },
  {
   "cell_type": "code",
   "execution_count": null,
   "metadata": {},
   "outputs": [],
   "source": []
  },
  {
   "cell_type": "code",
   "execution_count": null,
   "metadata": {},
   "outputs": [],
   "source": []
  },
  {
   "cell_type": "code",
   "execution_count": null,
   "metadata": {},
   "outputs": [],
   "source": []
  },
  {
   "cell_type": "code",
   "execution_count": null,
   "metadata": {},
   "outputs": [],
   "source": []
  },
  {
   "cell_type": "code",
   "execution_count": null,
   "metadata": {},
   "outputs": [],
   "source": []
  },
  {
   "cell_type": "code",
   "execution_count": null,
   "metadata": {},
   "outputs": [],
   "source": []
  },
  {
   "cell_type": "code",
   "execution_count": null,
   "metadata": {},
   "outputs": [],
   "source": []
  },
  {
   "cell_type": "code",
   "execution_count": null,
   "metadata": {},
   "outputs": [],
   "source": []
  },
  {
   "cell_type": "code",
   "execution_count": null,
   "metadata": {},
   "outputs": [],
   "source": []
  },
  {
   "cell_type": "code",
   "execution_count": null,
   "metadata": {},
   "outputs": [],
   "source": []
  },
  {
   "cell_type": "code",
   "execution_count": null,
   "metadata": {},
   "outputs": [],
   "source": []
  },
  {
   "cell_type": "code",
   "execution_count": null,
   "metadata": {},
   "outputs": [],
   "source": []
  },
  {
   "cell_type": "code",
   "execution_count": null,
   "metadata": {},
   "outputs": [],
   "source": []
  },
  {
   "cell_type": "code",
   "execution_count": null,
   "metadata": {},
   "outputs": [],
   "source": []
  },
  {
   "cell_type": "code",
   "execution_count": null,
   "metadata": {},
   "outputs": [],
   "source": []
  },
  {
   "cell_type": "code",
   "execution_count": null,
   "metadata": {},
   "outputs": [],
   "source": []
  },
  {
   "cell_type": "code",
   "execution_count": null,
   "metadata": {},
   "outputs": [],
   "source": []
  },
  {
   "cell_type": "code",
   "execution_count": null,
   "metadata": {},
   "outputs": [],
   "source": []
  },
  {
   "cell_type": "code",
   "execution_count": null,
   "metadata": {},
   "outputs": [],
   "source": []
  },
  {
   "cell_type": "code",
   "execution_count": null,
   "metadata": {},
   "outputs": [],
   "source": []
  },
  {
   "cell_type": "code",
   "execution_count": null,
   "metadata": {},
   "outputs": [],
   "source": []
  },
  {
   "cell_type": "code",
   "execution_count": null,
   "metadata": {},
   "outputs": [],
   "source": []
  },
  {
   "cell_type": "code",
   "execution_count": null,
   "metadata": {},
   "outputs": [],
   "source": []
  },
  {
   "cell_type": "code",
   "execution_count": null,
   "metadata": {},
   "outputs": [],
   "source": []
  },
  {
   "cell_type": "code",
   "execution_count": null,
   "metadata": {},
   "outputs": [],
   "source": []
  },
  {
   "cell_type": "code",
   "execution_count": null,
   "metadata": {},
   "outputs": [],
   "source": []
  },
  {
   "cell_type": "code",
   "execution_count": null,
   "metadata": {},
   "outputs": [],
   "source": []
  },
  {
   "cell_type": "code",
   "execution_count": null,
   "metadata": {},
   "outputs": [],
   "source": []
  },
  {
   "cell_type": "code",
   "execution_count": null,
   "metadata": {},
   "outputs": [],
   "source": []
  },
  {
   "cell_type": "code",
   "execution_count": null,
   "metadata": {},
   "outputs": [],
   "source": []
  },
  {
   "cell_type": "code",
   "execution_count": null,
   "metadata": {},
   "outputs": [],
   "source": []
  },
  {
   "cell_type": "code",
   "execution_count": null,
   "metadata": {},
   "outputs": [],
   "source": []
  },
  {
   "cell_type": "code",
   "execution_count": null,
   "metadata": {},
   "outputs": [],
   "source": []
  },
  {
   "cell_type": "code",
   "execution_count": null,
   "metadata": {},
   "outputs": [],
   "source": []
  },
  {
   "cell_type": "code",
   "execution_count": null,
   "metadata": {},
   "outputs": [],
   "source": []
  }
 ],
 "metadata": {
  "kernelspec": {
   "display_name": "Python 3",
   "language": "python",
   "name": "python3"
  },
  "language_info": {
   "codemirror_mode": {
    "name": "ipython",
    "version": 3
   },
   "file_extension": ".py",
   "mimetype": "text/x-python",
   "name": "python",
   "nbconvert_exporter": "python",
   "pygments_lexer": "ipython3",
   "version": "3.6.7"
  }
 },
 "nbformat": 4,
 "nbformat_minor": 2
}
